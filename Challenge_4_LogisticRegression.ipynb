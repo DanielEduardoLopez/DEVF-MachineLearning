{
  "nbformat": 4,
  "nbformat_minor": 0,
  "metadata": {
    "colab": {
      "provenance": [],
      "collapsed_sections": []
    },
    "kernelspec": {
      "display_name": "Python 3",
      "language": "python",
      "name": "python3"
    },
    "language_info": {
      "codemirror_mode": {
        "name": "ipython",
        "version": 3
      },
      "file_extension": ".py",
      "mimetype": "text/x-python",
      "name": "python",
      "nbconvert_exporter": "python",
      "pygments_lexer": "ipython3",
      "version": "3.8.8"
    }
  },
  "cells": [
    {
      "cell_type": "markdown",
      "metadata": {
        "id": "nLYFdSqP8xf3"
      },
      "source": [
        "# Logistic Regression"
      ]
    },
    {
      "cell_type": "markdown",
      "metadata": {
        "id": "2ByhgU8a8ziQ"
      },
      "source": [
        "A pesar de su nombre, la regresión logística es usada en problemas de clasificación, no en problemas de regresión."
      ]
    },
    {
      "cell_type": "markdown",
      "metadata": {
        "id": "20-qgQnhOT3J"
      },
      "source": [
        "$$\n",
        "\\frac{1}{1 + e^{-(b +\\Sigma_{i=1} \\beta_i x_i)}}\n",
        "$$\n",
        "\n",
        "la función de perdida no puede ser la misma que en una regresión linean ya que este no es un [problema convexo](https://towardsdatascience.com/optimization-loss-function-under-the-hood-part-ii-d20a239cde11#:~:text=Cost%20Function,its%20vertex%20as%20global%20minimum.&text=The%20loss%20function%20of%20logistic,which%20is%20called%20Logistic%20Loss%20.)"
      ]
    },
    {
      "cell_type": "markdown",
      "source": [
        "para calcular la perdida incurrida cada que ajustamos una regresión, lo común es usar la función logloss\n",
        "\n",
        "$-[y_i ln(p_i) + (1-y_i) ln(1 - p_i)]$"
      ],
      "metadata": {
        "id": "V6S3NCJsGBP1"
      }
    },
    {
      "cell_type": "markdown",
      "metadata": {
        "id": "cm5e8Qqp9ChF"
      },
      "source": [
        "Dada un conjunto de features, la regresión logística regresará una probabilidad __p__ con relación a la variable target. \n",
        "\n",
        "* Si p es mayor a 0.5, etiquetamos los datos como 1\n",
        "* Si p es menor a 0.5, etiquetamos los datos como 0"
      ]
    },
    {
      "cell_type": "markdown",
      "metadata": {
        "id": "Ly7qVEzEybdS"
      },
      "source": [
        "Para trabajar una regresión logística en __scikit-learn__, se sigue exactamente los mismos pasos que hemos trabajado con otros algoritmos previamente: \n",
        "\n",
        "1. Importamos los módulos necesarios\n",
        "\n",
        "```python\n",
        "from sklearn.model_selection import train_test_split\n",
        "from sklearn.linear_model import LogisticRegression\n",
        "```\n",
        "\n",
        "2. Instanciar el clasificador\n",
        "\n",
        "```python\n",
        "logreg = LogisticRegression()\n",
        "```\n",
        "\n",
        "3. Partir los datos en conjuntos de entrenamiento y prueba\n",
        "\n",
        "```python\n",
        "X_train, X_test, y_train, y_test = train_test_split(X, y,\n",
        "                                                    test_size = 0.25,\n",
        "                                                    random_state=42)\n",
        "```\n",
        "\n",
        "4. Ajustar el modelo sobre los datos de entrenamiento\n",
        "\n",
        "```python\n",
        "logreg.fit(X_train, y_train)\n",
        "```\n",
        "\n",
        "5. Hacer pronosticos sobre los datos de prueba\n",
        "\n",
        "```python\n",
        "y_pred = logreg.predict(X_test)\n",
        "```"
      ]
    },
    {
      "cell_type": "code",
      "metadata": {
        "id": "-PrisJ7YDQVN"
      },
      "source": [
        "from sklearn.model_selection import train_test_split\n",
        "from sklearn.linear_model import LogisticRegression\n",
        "from sklearn import metrics\n",
        "\n",
        "from sklearn.metrics import confusion_matrix, classification_report\n",
        "\n",
        "import matplotlib.pyplot as plt\n",
        "import pandas as pd\n",
        "import numpy as np\n",
        "\n",
        "pd.set_option('display.max_rows', 500)"
      ],
      "execution_count": 1,
      "outputs": []
    },
    {
      "cell_type": "markdown",
      "source": [
        "## Ejemplo 01"
      ],
      "metadata": {
        "id": "DGWa30LgliKf"
      }
    },
    {
      "cell_type": "markdown",
      "metadata": {
        "id": "H36_bQk7oqhk"
      },
      "source": [
        "A partir de diferentes caracteristicas de las personas, deseamos saber si será un posible donador para programas economicos"
      ]
    },
    {
      "cell_type": "code",
      "metadata": {
        "id": "LXn3s7_EDSmi"
      },
      "source": [
        "basetable = pd.read_csv('https://raw.githubusercontent.com/edroga/Datasets_for_projects/main/basetable.csv')"
      ],
      "execution_count": 2,
      "outputs": []
    },
    {
      "cell_type": "code",
      "source": [
        "basetable.head(3)"
      ],
      "metadata": {
        "id": "cyOWWYxcWv_N",
        "colab": {
          "base_uri": "https://localhost:8080/",
          "height": 207
        },
        "outputId": "e0418654-e0f8-41f9-ee74-bcaf11675adc"
      },
      "execution_count": 3,
      "outputs": [
        {
          "output_type": "execute_result",
          "data": {
            "text/plain": [
              "   target  gender_F  income_high  income_low  country_USA  country_India  \\\n",
              "0       0         1            0           1            0              1   \n",
              "1       0         1            0           0            0              1   \n",
              "2       0         1            0           0            0              1   \n",
              "\n",
              "   country_UK  age  time_since_last_gift  time_since_first_gift  max_gift  \\\n",
              "0           0   65                   530                   2265     166.0   \n",
              "1           0   71                   715                    715      90.0   \n",
              "2           0   28                   150                   1806     125.0   \n",
              "\n",
              "   min_gift  mean_gift  number_gift  \n",
              "0      87.0      116.0            7  \n",
              "1      90.0       90.0            1  \n",
              "2      74.0       96.0            9  "
            ],
            "text/html": [
              "\n",
              "  <div id=\"df-44676929-851c-4f26-9703-4308793e76ce\">\n",
              "    <div class=\"colab-df-container\">\n",
              "      <div>\n",
              "<style scoped>\n",
              "    .dataframe tbody tr th:only-of-type {\n",
              "        vertical-align: middle;\n",
              "    }\n",
              "\n",
              "    .dataframe tbody tr th {\n",
              "        vertical-align: top;\n",
              "    }\n",
              "\n",
              "    .dataframe thead th {\n",
              "        text-align: right;\n",
              "    }\n",
              "</style>\n",
              "<table border=\"1\" class=\"dataframe\">\n",
              "  <thead>\n",
              "    <tr style=\"text-align: right;\">\n",
              "      <th></th>\n",
              "      <th>target</th>\n",
              "      <th>gender_F</th>\n",
              "      <th>income_high</th>\n",
              "      <th>income_low</th>\n",
              "      <th>country_USA</th>\n",
              "      <th>country_India</th>\n",
              "      <th>country_UK</th>\n",
              "      <th>age</th>\n",
              "      <th>time_since_last_gift</th>\n",
              "      <th>time_since_first_gift</th>\n",
              "      <th>max_gift</th>\n",
              "      <th>min_gift</th>\n",
              "      <th>mean_gift</th>\n",
              "      <th>number_gift</th>\n",
              "    </tr>\n",
              "  </thead>\n",
              "  <tbody>\n",
              "    <tr>\n",
              "      <th>0</th>\n",
              "      <td>0</td>\n",
              "      <td>1</td>\n",
              "      <td>0</td>\n",
              "      <td>1</td>\n",
              "      <td>0</td>\n",
              "      <td>1</td>\n",
              "      <td>0</td>\n",
              "      <td>65</td>\n",
              "      <td>530</td>\n",
              "      <td>2265</td>\n",
              "      <td>166.0</td>\n",
              "      <td>87.0</td>\n",
              "      <td>116.0</td>\n",
              "      <td>7</td>\n",
              "    </tr>\n",
              "    <tr>\n",
              "      <th>1</th>\n",
              "      <td>0</td>\n",
              "      <td>1</td>\n",
              "      <td>0</td>\n",
              "      <td>0</td>\n",
              "      <td>0</td>\n",
              "      <td>1</td>\n",
              "      <td>0</td>\n",
              "      <td>71</td>\n",
              "      <td>715</td>\n",
              "      <td>715</td>\n",
              "      <td>90.0</td>\n",
              "      <td>90.0</td>\n",
              "      <td>90.0</td>\n",
              "      <td>1</td>\n",
              "    </tr>\n",
              "    <tr>\n",
              "      <th>2</th>\n",
              "      <td>0</td>\n",
              "      <td>1</td>\n",
              "      <td>0</td>\n",
              "      <td>0</td>\n",
              "      <td>0</td>\n",
              "      <td>1</td>\n",
              "      <td>0</td>\n",
              "      <td>28</td>\n",
              "      <td>150</td>\n",
              "      <td>1806</td>\n",
              "      <td>125.0</td>\n",
              "      <td>74.0</td>\n",
              "      <td>96.0</td>\n",
              "      <td>9</td>\n",
              "    </tr>\n",
              "  </tbody>\n",
              "</table>\n",
              "</div>\n",
              "      <button class=\"colab-df-convert\" onclick=\"convertToInteractive('df-44676929-851c-4f26-9703-4308793e76ce')\"\n",
              "              title=\"Convert this dataframe to an interactive table.\"\n",
              "              style=\"display:none;\">\n",
              "        \n",
              "  <svg xmlns=\"http://www.w3.org/2000/svg\" height=\"24px\"viewBox=\"0 0 24 24\"\n",
              "       width=\"24px\">\n",
              "    <path d=\"M0 0h24v24H0V0z\" fill=\"none\"/>\n",
              "    <path d=\"M18.56 5.44l.94 2.06.94-2.06 2.06-.94-2.06-.94-.94-2.06-.94 2.06-2.06.94zm-11 1L8.5 8.5l.94-2.06 2.06-.94-2.06-.94L8.5 2.5l-.94 2.06-2.06.94zm10 10l.94 2.06.94-2.06 2.06-.94-2.06-.94-.94-2.06-.94 2.06-2.06.94z\"/><path d=\"M17.41 7.96l-1.37-1.37c-.4-.4-.92-.59-1.43-.59-.52 0-1.04.2-1.43.59L10.3 9.45l-7.72 7.72c-.78.78-.78 2.05 0 2.83L4 21.41c.39.39.9.59 1.41.59.51 0 1.02-.2 1.41-.59l7.78-7.78 2.81-2.81c.8-.78.8-2.07 0-2.86zM5.41 20L4 18.59l7.72-7.72 1.47 1.35L5.41 20z\"/>\n",
              "  </svg>\n",
              "      </button>\n",
              "      \n",
              "  <style>\n",
              "    .colab-df-container {\n",
              "      display:flex;\n",
              "      flex-wrap:wrap;\n",
              "      gap: 12px;\n",
              "    }\n",
              "\n",
              "    .colab-df-convert {\n",
              "      background-color: #E8F0FE;\n",
              "      border: none;\n",
              "      border-radius: 50%;\n",
              "      cursor: pointer;\n",
              "      display: none;\n",
              "      fill: #1967D2;\n",
              "      height: 32px;\n",
              "      padding: 0 0 0 0;\n",
              "      width: 32px;\n",
              "    }\n",
              "\n",
              "    .colab-df-convert:hover {\n",
              "      background-color: #E2EBFA;\n",
              "      box-shadow: 0px 1px 2px rgba(60, 64, 67, 0.3), 0px 1px 3px 1px rgba(60, 64, 67, 0.15);\n",
              "      fill: #174EA6;\n",
              "    }\n",
              "\n",
              "    [theme=dark] .colab-df-convert {\n",
              "      background-color: #3B4455;\n",
              "      fill: #D2E3FC;\n",
              "    }\n",
              "\n",
              "    [theme=dark] .colab-df-convert:hover {\n",
              "      background-color: #434B5C;\n",
              "      box-shadow: 0px 1px 3px 1px rgba(0, 0, 0, 0.15);\n",
              "      filter: drop-shadow(0px 1px 2px rgba(0, 0, 0, 0.3));\n",
              "      fill: #FFFFFF;\n",
              "    }\n",
              "  </style>\n",
              "\n",
              "      <script>\n",
              "        const buttonEl =\n",
              "          document.querySelector('#df-44676929-851c-4f26-9703-4308793e76ce button.colab-df-convert');\n",
              "        buttonEl.style.display =\n",
              "          google.colab.kernel.accessAllowed ? 'block' : 'none';\n",
              "\n",
              "        async function convertToInteractive(key) {\n",
              "          const element = document.querySelector('#df-44676929-851c-4f26-9703-4308793e76ce');\n",
              "          const dataTable =\n",
              "            await google.colab.kernel.invokeFunction('convertToInteractive',\n",
              "                                                     [key], {});\n",
              "          if (!dataTable) return;\n",
              "\n",
              "          const docLinkHtml = 'Like what you see? Visit the ' +\n",
              "            '<a target=\"_blank\" href=https://colab.research.google.com/notebooks/data_table.ipynb>data table notebook</a>'\n",
              "            + ' to learn more about interactive tables.';\n",
              "          element.innerHTML = '';\n",
              "          dataTable['output_type'] = 'display_data';\n",
              "          await google.colab.output.renderOutput(dataTable, element);\n",
              "          const docLink = document.createElement('div');\n",
              "          docLink.innerHTML = docLinkHtml;\n",
              "          element.appendChild(docLink);\n",
              "        }\n",
              "      </script>\n",
              "    </div>\n",
              "  </div>\n",
              "  "
            ]
          },
          "metadata": {},
          "execution_count": 3
        }
      ]
    },
    {
      "cell_type": "code",
      "metadata": {
        "id": "gOaSMNwoFQMr",
        "colab": {
          "base_uri": "https://localhost:8080/"
        },
        "outputId": "83739d7b-ce11-4d8a-981b-aea098fa6e6b"
      },
      "source": [
        "basetable.shape"
      ],
      "execution_count": 4,
      "outputs": [
        {
          "output_type": "execute_result",
          "data": {
            "text/plain": [
              "(25000, 14)"
            ]
          },
          "metadata": {},
          "execution_count": 4
        }
      ]
    },
    {
      "cell_type": "markdown",
      "source": [
        "Tiramos algunas variables que no usaremos y separamos la variable target"
      ],
      "metadata": {
        "id": "3KOcgoCOQznd"
      }
    },
    {
      "cell_type": "code",
      "metadata": {
        "id": "fpKvyTK9EzV6"
      },
      "source": [
        "# X = basetable.drop('target', axis=1).values\n",
        "X = basetable[['age', 'gender_F', 'time_since_last_gift']].values\n",
        "y = basetable['target'].values"
      ],
      "execution_count": 5,
      "outputs": []
    },
    {
      "cell_type": "markdown",
      "source": [
        "balance ratio = (instancias positivas) / (instancias negativas)"
      ],
      "metadata": {
        "id": "YB0gFheP8q6L"
      }
    },
    {
      "cell_type": "code",
      "source": [
        " basetable['target'].value_counts()"
      ],
      "metadata": {
        "id": "qQDIk2I7BR_B",
        "colab": {
          "base_uri": "https://localhost:8080/"
        },
        "outputId": "ff248da2-9fe4-4d61-b038-15e8df616ee0"
      },
      "execution_count": 6,
      "outputs": [
        {
          "output_type": "execute_result",
          "data": {
            "text/plain": [
              "0    23813\n",
              "1     1187\n",
              "Name: target, dtype: int64"
            ]
          },
          "metadata": {},
          "execution_count": 6
        }
      ]
    },
    {
      "cell_type": "code",
      "source": [
        "print('Porcentaje de instancias con clase negativa',23813/(23813 + 1187))\n",
        "print('Porcentaje de instancias con clase positva',1187/(23813 + 1187))"
      ],
      "metadata": {
        "colab": {
          "base_uri": "https://localhost:8080/"
        },
        "id": "aG_NHBF7-oAR",
        "outputId": "2125d875-061b-42a8-c044-6516fea00c70"
      },
      "execution_count": 7,
      "outputs": [
        {
          "output_type": "stream",
          "name": "stdout",
          "text": [
            "Porcentaje de instancias con clase negativa 0.95252\n",
            "Porcentaje de instancias con clase positva 0.04748\n"
          ]
        }
      ]
    },
    {
      "cell_type": "code",
      "source": [
        "print('balance ratio: ', round(y.sum()/(len(y) - y.sum()), 4))"
      ],
      "metadata": {
        "id": "xOr4fIk-L7Zc",
        "colab": {
          "base_uri": "https://localhost:8080/"
        },
        "outputId": "67b2c4e8-50d9-4beb-b25c-b50f8d93c572"
      },
      "execution_count": null,
      "outputs": [
        {
          "output_type": "stream",
          "name": "stdout",
          "text": [
            "balance ratio:  0.0498\n"
          ]
        }
      ]
    },
    {
      "cell_type": "code",
      "source": [
        "print('Tienes una relación de 100:4')"
      ],
      "metadata": {
        "colab": {
          "base_uri": "https://localhost:8080/"
        },
        "id": "nq_l7tcE-_EA",
        "outputId": "98f8681e-81bf-4f72-cd0b-010b22fb4f33"
      },
      "execution_count": null,
      "outputs": [
        {
          "output_type": "stream",
          "name": "stdout",
          "text": [
            "Tienes una relación de 100:4\n"
          ]
        }
      ]
    },
    {
      "cell_type": "code",
      "metadata": {
        "id": "KA5jOvnyEzYg"
      },
      "source": [
        "X_train, X_test, y_train, y_test = train_test_split(X, y,\n",
        "                                                    test_size = 0.5,\n",
        "                                                    random_state=42,\n",
        "                                                    stratify = y)"
      ],
      "execution_count": null,
      "outputs": []
    },
    {
      "cell_type": "code",
      "source": [
        "logreg = LogisticRegression()\n",
        "logreg.fit(X_train, y_train)"
      ],
      "metadata": {
        "colab": {
          "base_uri": "https://localhost:8080/"
        },
        "id": "KsSConAz8kKv",
        "outputId": "866c73bd-2bc4-4f45-f483-b38fb4e033c5"
      },
      "execution_count": null,
      "outputs": [
        {
          "output_type": "execute_result",
          "data": {
            "text/plain": [
              "LogisticRegression()"
            ]
          },
          "metadata": {},
          "execution_count": 11
        }
      ]
    },
    {
      "cell_type": "code",
      "source": [
        "y_pred = logreg.predict(X_test)"
      ],
      "metadata": {
        "id": "ilIeCcqT9DvL"
      },
      "execution_count": null,
      "outputs": []
    },
    {
      "cell_type": "code",
      "source": [
        "# classification report\n",
        "print(classification_report(y_test, y_pred, zero_division = False))"
      ],
      "metadata": {
        "colab": {
          "base_uri": "https://localhost:8080/"
        },
        "id": "SG6CfPt29Gvt",
        "outputId": "d0b3d3ad-c2a3-4b9f-fb81-b34caae749d7"
      },
      "execution_count": null,
      "outputs": [
        {
          "output_type": "stream",
          "name": "stdout",
          "text": [
            "              precision    recall  f1-score   support\n",
            "\n",
            "           0       0.95      1.00      0.98     11907\n",
            "           1       0.00      0.00      0.00       593\n",
            "\n",
            "    accuracy                           0.95     12500\n",
            "   macro avg       0.48      0.50      0.49     12500\n",
            "weighted avg       0.91      0.95      0.93     12500\n",
            "\n"
          ]
        }
      ]
    },
    {
      "cell_type": "code",
      "source": [
        "# classification report\n",
        "print(confusion_matrix(y_test, y_pred))"
      ],
      "metadata": {
        "colab": {
          "base_uri": "https://localhost:8080/"
        },
        "id": "viPWXk3A9GzC",
        "outputId": "29a04af7-7f03-45c2-ada1-6a9bfc14a79b"
      },
      "execution_count": null,
      "outputs": [
        {
          "output_type": "stream",
          "name": "stdout",
          "text": [
            "[[11907     0]\n",
            " [  593     0]]\n"
          ]
        }
      ]
    },
    {
      "cell_type": "code",
      "source": [],
      "metadata": {
        "id": "8ByJepmX8lvJ"
      },
      "execution_count": null,
      "outputs": []
    },
    {
      "cell_type": "code",
      "source": [
        "from imblearn.under_sampling import RandomUnderSampler\n",
        "\n",
        "undersample = RandomUnderSampler(sampling_strategy=.9,\n",
        "                                 random_state=42)\n",
        "\n",
        "X_res, y_res = undersample.fit_resample(X_train, y_train)"
      ],
      "metadata": {
        "id": "WGTxHGNQL7fL"
      },
      "execution_count": null,
      "outputs": []
    },
    {
      "cell_type": "code",
      "source": [
        "y_res.sum()"
      ],
      "metadata": {
        "colab": {
          "base_uri": "https://localhost:8080/"
        },
        "id": "G3xsDKAE_y4x",
        "outputId": "6a48c50c-4565-404f-b75b-baa48889f49f"
      },
      "execution_count": null,
      "outputs": [
        {
          "output_type": "execute_result",
          "data": {
            "text/plain": [
              "594"
            ]
          },
          "metadata": {},
          "execution_count": 16
        }
      ]
    },
    {
      "cell_type": "code",
      "source": [
        "len(y_res) - y_res.sum()"
      ],
      "metadata": {
        "colab": {
          "base_uri": "https://localhost:8080/"
        },
        "id": "BKZ8vOTQ_2Gs",
        "outputId": "8aafe1f9-417a-4000-9084-d399c8dc8441"
      },
      "execution_count": null,
      "outputs": [
        {
          "output_type": "execute_result",
          "data": {
            "text/plain": [
              "660"
            ]
          },
          "metadata": {},
          "execution_count": 17
        }
      ]
    },
    {
      "cell_type": "code",
      "source": [
        "print('balance ratio: ', round(y_res.sum()/(len(y_res) - y_res.sum()), 4))"
      ],
      "metadata": {
        "id": "IxYOEg0DOAGe",
        "colab": {
          "base_uri": "https://localhost:8080/"
        },
        "outputId": "06f6a130-ec89-4c99-eb5e-62c1f8de9aa8"
      },
      "execution_count": null,
      "outputs": [
        {
          "output_type": "stream",
          "name": "stdout",
          "text": [
            "balance ratio:  0.9\n"
          ]
        }
      ]
    },
    {
      "cell_type": "code",
      "metadata": {
        "id": "njk1i17JEzbK",
        "colab": {
          "base_uri": "https://localhost:8080/"
        },
        "outputId": "9a064eab-3554-419e-f846-34693d10d85c"
      },
      "source": [
        "logreg = LogisticRegression()\n",
        "logreg.fit(X_res, y_res)"
      ],
      "execution_count": null,
      "outputs": [
        {
          "output_type": "execute_result",
          "data": {
            "text/plain": [
              "LogisticRegression()"
            ]
          },
          "metadata": {},
          "execution_count": 19
        }
      ]
    },
    {
      "cell_type": "code",
      "source": [
        "y_pred = logreg.predict(X_test)"
      ],
      "metadata": {
        "id": "sIgr0BDnL7iz"
      },
      "execution_count": null,
      "outputs": []
    },
    {
      "cell_type": "code",
      "metadata": {
        "id": "N3Uoyv6qR0Nn",
        "colab": {
          "base_uri": "https://localhost:8080/"
        },
        "outputId": "790d72c7-d3fa-4dfa-bada-23b73a68fccb"
      },
      "source": [
        "# matriz de confusion\n",
        "print(confusion_matrix(y_test, y_pred))"
      ],
      "execution_count": null,
      "outputs": [
        {
          "output_type": "stream",
          "name": "stdout",
          "text": [
            "[[8036 3871]\n",
            " [ 292  301]]\n"
          ]
        }
      ]
    },
    {
      "cell_type": "code",
      "source": [
        "print(y_test.sum())\n",
        "print(len(y_test))"
      ],
      "metadata": {
        "colab": {
          "base_uri": "https://localhost:8080/"
        },
        "id": "AQQSj9lGAacD",
        "outputId": "b2c60901-fdf1-4586-aa13-6a7577dba3eb"
      },
      "execution_count": null,
      "outputs": [
        {
          "output_type": "stream",
          "name": "stdout",
          "text": [
            "593\n",
            "12500\n"
          ]
        }
      ]
    },
    {
      "cell_type": "code",
      "source": [
        "# 100:4\n",
        "593/12500"
      ],
      "metadata": {
        "colab": {
          "base_uri": "https://localhost:8080/"
        },
        "id": "qUVqrIWxAh6n",
        "outputId": "2b7ea32a-d50e-4cda-8787-27db530da10a"
      },
      "execution_count": null,
      "outputs": [
        {
          "output_type": "execute_result",
          "data": {
            "text/plain": [
              "0.04744"
            ]
          },
          "metadata": {},
          "execution_count": 23
        }
      ]
    },
    {
      "cell_type": "code",
      "metadata": {
        "id": "aTS-e31PR_y7",
        "colab": {
          "base_uri": "https://localhost:8080/"
        },
        "outputId": "268bca93-3529-4793-df45-5ecf94658f76"
      },
      "source": [
        "# classification report\n",
        "print(classification_report(y_test, y_pred, zero_division = False))"
      ],
      "execution_count": null,
      "outputs": [
        {
          "output_type": "stream",
          "name": "stdout",
          "text": [
            "              precision    recall  f1-score   support\n",
            "\n",
            "           0       0.96      0.67      0.79     11907\n",
            "           1       0.07      0.51      0.13       593\n",
            "\n",
            "    accuracy                           0.67     12500\n",
            "   macro avg       0.52      0.59      0.46     12500\n",
            "weighted avg       0.92      0.67      0.76     12500\n",
            "\n"
          ]
        }
      ]
    },
    {
      "cell_type": "code",
      "source": [
        "# list(logreg.predict(X_test))"
      ],
      "metadata": {
        "id": "UmKB95owBBcY"
      },
      "execution_count": null,
      "outputs": []
    },
    {
      "cell_type": "markdown",
      "source": [
        "## __threshold__"
      ],
      "metadata": {
        "id": "4fn2RoLROxEs"
      }
    },
    {
      "cell_type": "markdown",
      "metadata": {
        "id": "zLxUw2J_1wF1"
      },
      "source": [
        "por defecto usamos un __threshold__ (punto de corte) de 0.5, este threshold define el output del modelo, si queremos ver las probabilidades, entonces usamos el método `.predict_proba()`"
      ]
    },
    {
      "cell_type": "markdown",
      "source": [
        "Tomando como base el ejercicio anterior, de la siguiente forma podemo obtener las probabilidades de pertenecia a una clase:"
      ],
      "metadata": {
        "id": "2P77ZwBUPE1-"
      }
    },
    {
      "cell_type": "code",
      "source": [
        "# obtenemos las probabilidas\n",
        "y_probas = logreg.predict_proba(X_test)\n",
        "# El output de logreg.predict_proba(X_test) es un arreglo de numpy con dimensiones (Instancias_en_test, Cantidad_de_clases)"
      ],
      "metadata": {
        "id": "moaBdjs8PbNc"
      },
      "execution_count": null,
      "outputs": []
    },
    {
      "cell_type": "markdown",
      "source": [
        "La primera columna representa la probabilidad de pertenecer a la clase 0 y la segunda columna representa la probabilidad de pertenecer a la clase 1 (el complemento)"
      ],
      "metadata": {
        "id": "rjdpIUUeQ-pT"
      }
    },
    {
      "cell_type": "code",
      "source": [
        "y_probas[:5,:]"
      ],
      "metadata": {
        "id": "Szy8TSr6PbQ8",
        "colab": {
          "base_uri": "https://localhost:8080/"
        },
        "outputId": "6fd4ad66-3bbb-4eeb-a952-877729d8af27"
      },
      "execution_count": null,
      "outputs": [
        {
          "output_type": "execute_result",
          "data": {
            "text/plain": [
              "array([[0.37827584, 0.62172416],\n",
              "       [0.48091475, 0.51908525],\n",
              "       [0.46831696, 0.53168304],\n",
              "       [0.57432266, 0.42567734],\n",
              "       [0.47178602, 0.52821398]])"
            ]
          },
          "metadata": {},
          "execution_count": 27
        }
      ]
    },
    {
      "cell_type": "code",
      "source": [
        "# transformemos el output en un DataFrame\n",
        "probabilidades_df = pd.DataFrame(logreg.predict_proba(X_test), columns = ['probabilidad_de_C0', 'probabilidad_de_C1'])\n",
        "probabilidades_df.head()"
      ],
      "metadata": {
        "id": "M3kydTluLhLL",
        "colab": {
          "base_uri": "https://localhost:8080/",
          "height": 206
        },
        "outputId": "f71bab5b-6ccc-4681-85c2-1909f5f4aba7"
      },
      "execution_count": null,
      "outputs": [
        {
          "output_type": "execute_result",
          "data": {
            "text/plain": [
              "   probabilidad_de_C0  probabilidad_de_C1\n",
              "0            0.378276            0.621724\n",
              "1            0.480915            0.519085\n",
              "2            0.468317            0.531683\n",
              "3            0.574323            0.425677\n",
              "4            0.471786            0.528214"
            ],
            "text/html": [
              "\n",
              "  <div id=\"df-a34f5781-47f8-4672-9a0d-ef715e023fd0\">\n",
              "    <div class=\"colab-df-container\">\n",
              "      <div>\n",
              "<style scoped>\n",
              "    .dataframe tbody tr th:only-of-type {\n",
              "        vertical-align: middle;\n",
              "    }\n",
              "\n",
              "    .dataframe tbody tr th {\n",
              "        vertical-align: top;\n",
              "    }\n",
              "\n",
              "    .dataframe thead th {\n",
              "        text-align: right;\n",
              "    }\n",
              "</style>\n",
              "<table border=\"1\" class=\"dataframe\">\n",
              "  <thead>\n",
              "    <tr style=\"text-align: right;\">\n",
              "      <th></th>\n",
              "      <th>probabilidad_de_C0</th>\n",
              "      <th>probabilidad_de_C1</th>\n",
              "    </tr>\n",
              "  </thead>\n",
              "  <tbody>\n",
              "    <tr>\n",
              "      <th>0</th>\n",
              "      <td>0.378276</td>\n",
              "      <td>0.621724</td>\n",
              "    </tr>\n",
              "    <tr>\n",
              "      <th>1</th>\n",
              "      <td>0.480915</td>\n",
              "      <td>0.519085</td>\n",
              "    </tr>\n",
              "    <tr>\n",
              "      <th>2</th>\n",
              "      <td>0.468317</td>\n",
              "      <td>0.531683</td>\n",
              "    </tr>\n",
              "    <tr>\n",
              "      <th>3</th>\n",
              "      <td>0.574323</td>\n",
              "      <td>0.425677</td>\n",
              "    </tr>\n",
              "    <tr>\n",
              "      <th>4</th>\n",
              "      <td>0.471786</td>\n",
              "      <td>0.528214</td>\n",
              "    </tr>\n",
              "  </tbody>\n",
              "</table>\n",
              "</div>\n",
              "      <button class=\"colab-df-convert\" onclick=\"convertToInteractive('df-a34f5781-47f8-4672-9a0d-ef715e023fd0')\"\n",
              "              title=\"Convert this dataframe to an interactive table.\"\n",
              "              style=\"display:none;\">\n",
              "        \n",
              "  <svg xmlns=\"http://www.w3.org/2000/svg\" height=\"24px\"viewBox=\"0 0 24 24\"\n",
              "       width=\"24px\">\n",
              "    <path d=\"M0 0h24v24H0V0z\" fill=\"none\"/>\n",
              "    <path d=\"M18.56 5.44l.94 2.06.94-2.06 2.06-.94-2.06-.94-.94-2.06-.94 2.06-2.06.94zm-11 1L8.5 8.5l.94-2.06 2.06-.94-2.06-.94L8.5 2.5l-.94 2.06-2.06.94zm10 10l.94 2.06.94-2.06 2.06-.94-2.06-.94-.94-2.06-.94 2.06-2.06.94z\"/><path d=\"M17.41 7.96l-1.37-1.37c-.4-.4-.92-.59-1.43-.59-.52 0-1.04.2-1.43.59L10.3 9.45l-7.72 7.72c-.78.78-.78 2.05 0 2.83L4 21.41c.39.39.9.59 1.41.59.51 0 1.02-.2 1.41-.59l7.78-7.78 2.81-2.81c.8-.78.8-2.07 0-2.86zM5.41 20L4 18.59l7.72-7.72 1.47 1.35L5.41 20z\"/>\n",
              "  </svg>\n",
              "      </button>\n",
              "      \n",
              "  <style>\n",
              "    .colab-df-container {\n",
              "      display:flex;\n",
              "      flex-wrap:wrap;\n",
              "      gap: 12px;\n",
              "    }\n",
              "\n",
              "    .colab-df-convert {\n",
              "      background-color: #E8F0FE;\n",
              "      border: none;\n",
              "      border-radius: 50%;\n",
              "      cursor: pointer;\n",
              "      display: none;\n",
              "      fill: #1967D2;\n",
              "      height: 32px;\n",
              "      padding: 0 0 0 0;\n",
              "      width: 32px;\n",
              "    }\n",
              "\n",
              "    .colab-df-convert:hover {\n",
              "      background-color: #E2EBFA;\n",
              "      box-shadow: 0px 1px 2px rgba(60, 64, 67, 0.3), 0px 1px 3px 1px rgba(60, 64, 67, 0.15);\n",
              "      fill: #174EA6;\n",
              "    }\n",
              "\n",
              "    [theme=dark] .colab-df-convert {\n",
              "      background-color: #3B4455;\n",
              "      fill: #D2E3FC;\n",
              "    }\n",
              "\n",
              "    [theme=dark] .colab-df-convert:hover {\n",
              "      background-color: #434B5C;\n",
              "      box-shadow: 0px 1px 3px 1px rgba(0, 0, 0, 0.15);\n",
              "      filter: drop-shadow(0px 1px 2px rgba(0, 0, 0, 0.3));\n",
              "      fill: #FFFFFF;\n",
              "    }\n",
              "  </style>\n",
              "\n",
              "      <script>\n",
              "        const buttonEl =\n",
              "          document.querySelector('#df-a34f5781-47f8-4672-9a0d-ef715e023fd0 button.colab-df-convert');\n",
              "        buttonEl.style.display =\n",
              "          google.colab.kernel.accessAllowed ? 'block' : 'none';\n",
              "\n",
              "        async function convertToInteractive(key) {\n",
              "          const element = document.querySelector('#df-a34f5781-47f8-4672-9a0d-ef715e023fd0');\n",
              "          const dataTable =\n",
              "            await google.colab.kernel.invokeFunction('convertToInteractive',\n",
              "                                                     [key], {});\n",
              "          if (!dataTable) return;\n",
              "\n",
              "          const docLinkHtml = 'Like what you see? Visit the ' +\n",
              "            '<a target=\"_blank\" href=https://colab.research.google.com/notebooks/data_table.ipynb>data table notebook</a>'\n",
              "            + ' to learn more about interactive tables.';\n",
              "          element.innerHTML = '';\n",
              "          dataTable['output_type'] = 'display_data';\n",
              "          await google.colab.output.renderOutput(dataTable, element);\n",
              "          const docLink = document.createElement('div');\n",
              "          docLink.innerHTML = docLinkHtml;\n",
              "          element.appendChild(docLink);\n",
              "        }\n",
              "      </script>\n",
              "    </div>\n",
              "  </div>\n",
              "  "
            ]
          },
          "metadata": {},
          "execution_count": 28
        }
      ]
    },
    {
      "cell_type": "code",
      "source": [
        "# Agregamos los resultados de logreg.predict(X_test)\n",
        "probabilidades_df['clasificacion'] = logreg.predict(X_test)"
      ],
      "metadata": {
        "id": "75nzySOHR8_6"
      },
      "execution_count": null,
      "outputs": []
    },
    {
      "cell_type": "code",
      "source": [
        "probabilidades_df.head(20)"
      ],
      "metadata": {
        "id": "lH95xJVGR9J-",
        "colab": {
          "base_uri": "https://localhost:8080/",
          "height": 676
        },
        "outputId": "48136d37-86d3-4397-9d37-7c526c13c8fc"
      },
      "execution_count": null,
      "outputs": [
        {
          "output_type": "execute_result",
          "data": {
            "text/plain": [
              "    probabilidad_de_C0  probabilidad_de_C1  clasificacion\n",
              "0             0.378276            0.621724              1\n",
              "1             0.480915            0.519085              1\n",
              "2             0.468317            0.531683              1\n",
              "3             0.574323            0.425677              0\n",
              "4             0.471786            0.528214              1\n",
              "5             0.595901            0.404099              0\n",
              "6             0.552073            0.447927              0\n",
              "7             0.459216            0.540784              1\n",
              "8             0.406499            0.593501              1\n",
              "9             0.642538            0.357462              0\n",
              "10            0.488552            0.511448              1\n",
              "11            0.666901            0.333099              0\n",
              "12            0.442954            0.557046              1\n",
              "13            0.570031            0.429969              0\n",
              "14            0.520323            0.479677              0\n",
              "15            0.575764            0.424236              0\n",
              "16            0.524222            0.475778              0\n",
              "17            0.403567            0.596433              1\n",
              "18            0.461200            0.538800              1\n",
              "19            0.504631            0.495369              0"
            ],
            "text/html": [
              "\n",
              "  <div id=\"df-f57ad415-51c1-447e-957f-fda413bc772e\">\n",
              "    <div class=\"colab-df-container\">\n",
              "      <div>\n",
              "<style scoped>\n",
              "    .dataframe tbody tr th:only-of-type {\n",
              "        vertical-align: middle;\n",
              "    }\n",
              "\n",
              "    .dataframe tbody tr th {\n",
              "        vertical-align: top;\n",
              "    }\n",
              "\n",
              "    .dataframe thead th {\n",
              "        text-align: right;\n",
              "    }\n",
              "</style>\n",
              "<table border=\"1\" class=\"dataframe\">\n",
              "  <thead>\n",
              "    <tr style=\"text-align: right;\">\n",
              "      <th></th>\n",
              "      <th>probabilidad_de_C0</th>\n",
              "      <th>probabilidad_de_C1</th>\n",
              "      <th>clasificacion</th>\n",
              "    </tr>\n",
              "  </thead>\n",
              "  <tbody>\n",
              "    <tr>\n",
              "      <th>0</th>\n",
              "      <td>0.378276</td>\n",
              "      <td>0.621724</td>\n",
              "      <td>1</td>\n",
              "    </tr>\n",
              "    <tr>\n",
              "      <th>1</th>\n",
              "      <td>0.480915</td>\n",
              "      <td>0.519085</td>\n",
              "      <td>1</td>\n",
              "    </tr>\n",
              "    <tr>\n",
              "      <th>2</th>\n",
              "      <td>0.468317</td>\n",
              "      <td>0.531683</td>\n",
              "      <td>1</td>\n",
              "    </tr>\n",
              "    <tr>\n",
              "      <th>3</th>\n",
              "      <td>0.574323</td>\n",
              "      <td>0.425677</td>\n",
              "      <td>0</td>\n",
              "    </tr>\n",
              "    <tr>\n",
              "      <th>4</th>\n",
              "      <td>0.471786</td>\n",
              "      <td>0.528214</td>\n",
              "      <td>1</td>\n",
              "    </tr>\n",
              "    <tr>\n",
              "      <th>5</th>\n",
              "      <td>0.595901</td>\n",
              "      <td>0.404099</td>\n",
              "      <td>0</td>\n",
              "    </tr>\n",
              "    <tr>\n",
              "      <th>6</th>\n",
              "      <td>0.552073</td>\n",
              "      <td>0.447927</td>\n",
              "      <td>0</td>\n",
              "    </tr>\n",
              "    <tr>\n",
              "      <th>7</th>\n",
              "      <td>0.459216</td>\n",
              "      <td>0.540784</td>\n",
              "      <td>1</td>\n",
              "    </tr>\n",
              "    <tr>\n",
              "      <th>8</th>\n",
              "      <td>0.406499</td>\n",
              "      <td>0.593501</td>\n",
              "      <td>1</td>\n",
              "    </tr>\n",
              "    <tr>\n",
              "      <th>9</th>\n",
              "      <td>0.642538</td>\n",
              "      <td>0.357462</td>\n",
              "      <td>0</td>\n",
              "    </tr>\n",
              "    <tr>\n",
              "      <th>10</th>\n",
              "      <td>0.488552</td>\n",
              "      <td>0.511448</td>\n",
              "      <td>1</td>\n",
              "    </tr>\n",
              "    <tr>\n",
              "      <th>11</th>\n",
              "      <td>0.666901</td>\n",
              "      <td>0.333099</td>\n",
              "      <td>0</td>\n",
              "    </tr>\n",
              "    <tr>\n",
              "      <th>12</th>\n",
              "      <td>0.442954</td>\n",
              "      <td>0.557046</td>\n",
              "      <td>1</td>\n",
              "    </tr>\n",
              "    <tr>\n",
              "      <th>13</th>\n",
              "      <td>0.570031</td>\n",
              "      <td>0.429969</td>\n",
              "      <td>0</td>\n",
              "    </tr>\n",
              "    <tr>\n",
              "      <th>14</th>\n",
              "      <td>0.520323</td>\n",
              "      <td>0.479677</td>\n",
              "      <td>0</td>\n",
              "    </tr>\n",
              "    <tr>\n",
              "      <th>15</th>\n",
              "      <td>0.575764</td>\n",
              "      <td>0.424236</td>\n",
              "      <td>0</td>\n",
              "    </tr>\n",
              "    <tr>\n",
              "      <th>16</th>\n",
              "      <td>0.524222</td>\n",
              "      <td>0.475778</td>\n",
              "      <td>0</td>\n",
              "    </tr>\n",
              "    <tr>\n",
              "      <th>17</th>\n",
              "      <td>0.403567</td>\n",
              "      <td>0.596433</td>\n",
              "      <td>1</td>\n",
              "    </tr>\n",
              "    <tr>\n",
              "      <th>18</th>\n",
              "      <td>0.461200</td>\n",
              "      <td>0.538800</td>\n",
              "      <td>1</td>\n",
              "    </tr>\n",
              "    <tr>\n",
              "      <th>19</th>\n",
              "      <td>0.504631</td>\n",
              "      <td>0.495369</td>\n",
              "      <td>0</td>\n",
              "    </tr>\n",
              "  </tbody>\n",
              "</table>\n",
              "</div>\n",
              "      <button class=\"colab-df-convert\" onclick=\"convertToInteractive('df-f57ad415-51c1-447e-957f-fda413bc772e')\"\n",
              "              title=\"Convert this dataframe to an interactive table.\"\n",
              "              style=\"display:none;\">\n",
              "        \n",
              "  <svg xmlns=\"http://www.w3.org/2000/svg\" height=\"24px\"viewBox=\"0 0 24 24\"\n",
              "       width=\"24px\">\n",
              "    <path d=\"M0 0h24v24H0V0z\" fill=\"none\"/>\n",
              "    <path d=\"M18.56 5.44l.94 2.06.94-2.06 2.06-.94-2.06-.94-.94-2.06-.94 2.06-2.06.94zm-11 1L8.5 8.5l.94-2.06 2.06-.94-2.06-.94L8.5 2.5l-.94 2.06-2.06.94zm10 10l.94 2.06.94-2.06 2.06-.94-2.06-.94-.94-2.06-.94 2.06-2.06.94z\"/><path d=\"M17.41 7.96l-1.37-1.37c-.4-.4-.92-.59-1.43-.59-.52 0-1.04.2-1.43.59L10.3 9.45l-7.72 7.72c-.78.78-.78 2.05 0 2.83L4 21.41c.39.39.9.59 1.41.59.51 0 1.02-.2 1.41-.59l7.78-7.78 2.81-2.81c.8-.78.8-2.07 0-2.86zM5.41 20L4 18.59l7.72-7.72 1.47 1.35L5.41 20z\"/>\n",
              "  </svg>\n",
              "      </button>\n",
              "      \n",
              "  <style>\n",
              "    .colab-df-container {\n",
              "      display:flex;\n",
              "      flex-wrap:wrap;\n",
              "      gap: 12px;\n",
              "    }\n",
              "\n",
              "    .colab-df-convert {\n",
              "      background-color: #E8F0FE;\n",
              "      border: none;\n",
              "      border-radius: 50%;\n",
              "      cursor: pointer;\n",
              "      display: none;\n",
              "      fill: #1967D2;\n",
              "      height: 32px;\n",
              "      padding: 0 0 0 0;\n",
              "      width: 32px;\n",
              "    }\n",
              "\n",
              "    .colab-df-convert:hover {\n",
              "      background-color: #E2EBFA;\n",
              "      box-shadow: 0px 1px 2px rgba(60, 64, 67, 0.3), 0px 1px 3px 1px rgba(60, 64, 67, 0.15);\n",
              "      fill: #174EA6;\n",
              "    }\n",
              "\n",
              "    [theme=dark] .colab-df-convert {\n",
              "      background-color: #3B4455;\n",
              "      fill: #D2E3FC;\n",
              "    }\n",
              "\n",
              "    [theme=dark] .colab-df-convert:hover {\n",
              "      background-color: #434B5C;\n",
              "      box-shadow: 0px 1px 3px 1px rgba(0, 0, 0, 0.15);\n",
              "      filter: drop-shadow(0px 1px 2px rgba(0, 0, 0, 0.3));\n",
              "      fill: #FFFFFF;\n",
              "    }\n",
              "  </style>\n",
              "\n",
              "      <script>\n",
              "        const buttonEl =\n",
              "          document.querySelector('#df-f57ad415-51c1-447e-957f-fda413bc772e button.colab-df-convert');\n",
              "        buttonEl.style.display =\n",
              "          google.colab.kernel.accessAllowed ? 'block' : 'none';\n",
              "\n",
              "        async function convertToInteractive(key) {\n",
              "          const element = document.querySelector('#df-f57ad415-51c1-447e-957f-fda413bc772e');\n",
              "          const dataTable =\n",
              "            await google.colab.kernel.invokeFunction('convertToInteractive',\n",
              "                                                     [key], {});\n",
              "          if (!dataTable) return;\n",
              "\n",
              "          const docLinkHtml = 'Like what you see? Visit the ' +\n",
              "            '<a target=\"_blank\" href=https://colab.research.google.com/notebooks/data_table.ipynb>data table notebook</a>'\n",
              "            + ' to learn more about interactive tables.';\n",
              "          element.innerHTML = '';\n",
              "          dataTable['output_type'] = 'display_data';\n",
              "          await google.colab.output.renderOutput(dataTable, element);\n",
              "          const docLink = document.createElement('div');\n",
              "          docLink.innerHTML = docLinkHtml;\n",
              "          element.appendChild(docLink);\n",
              "        }\n",
              "      </script>\n",
              "    </div>\n",
              "  </div>\n",
              "  "
            ]
          },
          "metadata": {},
          "execution_count": 30
        }
      ]
    },
    {
      "cell_type": "code",
      "source": [],
      "metadata": {
        "id": "vs-pRwLsR9PX"
      },
      "execution_count": null,
      "outputs": []
    },
    {
      "cell_type": "code",
      "source": [],
      "metadata": {
        "id": "xaAO7wpMLhV8"
      },
      "execution_count": null,
      "outputs": []
    },
    {
      "cell_type": "code",
      "source": [],
      "metadata": {
        "id": "uieUrqepLhZz"
      },
      "execution_count": null,
      "outputs": []
    },
    {
      "cell_type": "markdown",
      "source": [
        "## Ejemplo 02"
      ],
      "metadata": {
        "id": "E-yGRp5RmYZ0"
      }
    },
    {
      "cell_type": "markdown",
      "source": [
        "El objetivo en este problema es detectar a partir de algunas características, si una persona está enferma del corazón, la variable target es `num` la cual indica si una persona tiene o no enfermedades en el corazón.\n",
        "\n",
        "als demas variables son:\n",
        "\n",
        "* `age`: age in years\n",
        "* `sex`: sex (1 = male; 0 = female)\n",
        "* `cp`: chest pain type\n",
        "    * 1: typical angina\n",
        "    * 2: atypical angina\n",
        "    * 3: non-anginal pain\n",
        "    * 4: asymptomatic\n",
        "* `trestbps`: resting blood pressure (in mm Hg on admission to the hospital)\n",
        "* `chol`: serum cholesterol in mg/dl\n",
        "* `fbs`: (fasting blood sugar > 120 mg/dl) (1 = true; 0 = false)\n",
        "* `restecg`: resting electrocardiographic results\n",
        "    * 0: normal\n",
        "    * 1: having ST-T wave abnormality (T wave inversions and/or ST elevation or depression of > 0.05 mV)\n",
        "    * 2: showing probable or definite left ventricular hypertrophy by Estes’ criteria\n",
        "* `thalach`: maximum heart rate achieved\n",
        "* `exang`: exercise-induced angina (1 = yes; 0 = no)\n",
        "* `oldpeak`: ST depression induced by exercise relative to rest"
      ],
      "metadata": {
        "id": "BBMgbO9TnPPJ"
      }
    },
    {
      "cell_type": "code",
      "source": [
        "HearAttack = (pd.read_csv('https://raw.githubusercontent.com/edroga/Datasets_for_projects/main/Heart_Attack.csv',\n",
        "                          na_values='?')\n",
        "              .drop(columns = ['slope', 'ca', 'thal'])\n",
        "              .rename(columns={'num       ': 'target'})\n",
        "              .dropna()\n",
        "              )\n",
        "\n",
        "HearAttack = pd.get_dummies(HearAttack, columns = ['cp', 'restecg'], drop_first = True)\n",
        "\n",
        "HearAttack.head(6)"
      ],
      "metadata": {
        "id": "hiWV3EHwmbl8",
        "colab": {
          "base_uri": "https://localhost:8080/",
          "height": 237
        },
        "outputId": "9662ddb2-5dcc-4754-a532-20486c75b99c"
      },
      "execution_count": null,
      "outputs": [
        {
          "output_type": "execute_result",
          "data": {
            "text/plain": [
              "   age  sex  trestbps   chol  fbs  thalach  exang  oldpeak  target  cp_2  \\\n",
              "0   28    1     130.0  132.0  0.0    185.0    0.0      0.0       0     1   \n",
              "1   29    1     120.0  243.0  0.0    160.0    0.0      0.0       0     1   \n",
              "3   30    0     170.0  237.0  0.0    170.0    0.0      0.0       0     0   \n",
              "4   31    0     100.0  219.0  0.0    150.0    0.0      0.0       0     1   \n",
              "5   32    0     105.0  198.0  0.0    165.0    0.0      0.0       0     1   \n",
              "6   32    1     110.0  225.0  0.0    184.0    0.0      0.0       0     1   \n",
              "\n",
              "   cp_3  cp_4  restecg_1.0  restecg_2.0  \n",
              "0     0     0            0            1  \n",
              "1     0     0            0            0  \n",
              "3     0     0            1            0  \n",
              "4     0     0            1            0  \n",
              "5     0     0            0            0  \n",
              "6     0     0            0            0  "
            ],
            "text/html": [
              "\n",
              "  <div id=\"df-43309021-9b05-4ee9-9429-a89a87a6a353\">\n",
              "    <div class=\"colab-df-container\">\n",
              "      <div>\n",
              "<style scoped>\n",
              "    .dataframe tbody tr th:only-of-type {\n",
              "        vertical-align: middle;\n",
              "    }\n",
              "\n",
              "    .dataframe tbody tr th {\n",
              "        vertical-align: top;\n",
              "    }\n",
              "\n",
              "    .dataframe thead th {\n",
              "        text-align: right;\n",
              "    }\n",
              "</style>\n",
              "<table border=\"1\" class=\"dataframe\">\n",
              "  <thead>\n",
              "    <tr style=\"text-align: right;\">\n",
              "      <th></th>\n",
              "      <th>age</th>\n",
              "      <th>sex</th>\n",
              "      <th>trestbps</th>\n",
              "      <th>chol</th>\n",
              "      <th>fbs</th>\n",
              "      <th>thalach</th>\n",
              "      <th>exang</th>\n",
              "      <th>oldpeak</th>\n",
              "      <th>target</th>\n",
              "      <th>cp_2</th>\n",
              "      <th>cp_3</th>\n",
              "      <th>cp_4</th>\n",
              "      <th>restecg_1.0</th>\n",
              "      <th>restecg_2.0</th>\n",
              "    </tr>\n",
              "  </thead>\n",
              "  <tbody>\n",
              "    <tr>\n",
              "      <th>0</th>\n",
              "      <td>28</td>\n",
              "      <td>1</td>\n",
              "      <td>130.0</td>\n",
              "      <td>132.0</td>\n",
              "      <td>0.0</td>\n",
              "      <td>185.0</td>\n",
              "      <td>0.0</td>\n",
              "      <td>0.0</td>\n",
              "      <td>0</td>\n",
              "      <td>1</td>\n",
              "      <td>0</td>\n",
              "      <td>0</td>\n",
              "      <td>0</td>\n",
              "      <td>1</td>\n",
              "    </tr>\n",
              "    <tr>\n",
              "      <th>1</th>\n",
              "      <td>29</td>\n",
              "      <td>1</td>\n",
              "      <td>120.0</td>\n",
              "      <td>243.0</td>\n",
              "      <td>0.0</td>\n",
              "      <td>160.0</td>\n",
              "      <td>0.0</td>\n",
              "      <td>0.0</td>\n",
              "      <td>0</td>\n",
              "      <td>1</td>\n",
              "      <td>0</td>\n",
              "      <td>0</td>\n",
              "      <td>0</td>\n",
              "      <td>0</td>\n",
              "    </tr>\n",
              "    <tr>\n",
              "      <th>3</th>\n",
              "      <td>30</td>\n",
              "      <td>0</td>\n",
              "      <td>170.0</td>\n",
              "      <td>237.0</td>\n",
              "      <td>0.0</td>\n",
              "      <td>170.0</td>\n",
              "      <td>0.0</td>\n",
              "      <td>0.0</td>\n",
              "      <td>0</td>\n",
              "      <td>0</td>\n",
              "      <td>0</td>\n",
              "      <td>0</td>\n",
              "      <td>1</td>\n",
              "      <td>0</td>\n",
              "    </tr>\n",
              "    <tr>\n",
              "      <th>4</th>\n",
              "      <td>31</td>\n",
              "      <td>0</td>\n",
              "      <td>100.0</td>\n",
              "      <td>219.0</td>\n",
              "      <td>0.0</td>\n",
              "      <td>150.0</td>\n",
              "      <td>0.0</td>\n",
              "      <td>0.0</td>\n",
              "      <td>0</td>\n",
              "      <td>1</td>\n",
              "      <td>0</td>\n",
              "      <td>0</td>\n",
              "      <td>1</td>\n",
              "      <td>0</td>\n",
              "    </tr>\n",
              "    <tr>\n",
              "      <th>5</th>\n",
              "      <td>32</td>\n",
              "      <td>0</td>\n",
              "      <td>105.0</td>\n",
              "      <td>198.0</td>\n",
              "      <td>0.0</td>\n",
              "      <td>165.0</td>\n",
              "      <td>0.0</td>\n",
              "      <td>0.0</td>\n",
              "      <td>0</td>\n",
              "      <td>1</td>\n",
              "      <td>0</td>\n",
              "      <td>0</td>\n",
              "      <td>0</td>\n",
              "      <td>0</td>\n",
              "    </tr>\n",
              "    <tr>\n",
              "      <th>6</th>\n",
              "      <td>32</td>\n",
              "      <td>1</td>\n",
              "      <td>110.0</td>\n",
              "      <td>225.0</td>\n",
              "      <td>0.0</td>\n",
              "      <td>184.0</td>\n",
              "      <td>0.0</td>\n",
              "      <td>0.0</td>\n",
              "      <td>0</td>\n",
              "      <td>1</td>\n",
              "      <td>0</td>\n",
              "      <td>0</td>\n",
              "      <td>0</td>\n",
              "      <td>0</td>\n",
              "    </tr>\n",
              "  </tbody>\n",
              "</table>\n",
              "</div>\n",
              "      <button class=\"colab-df-convert\" onclick=\"convertToInteractive('df-43309021-9b05-4ee9-9429-a89a87a6a353')\"\n",
              "              title=\"Convert this dataframe to an interactive table.\"\n",
              "              style=\"display:none;\">\n",
              "        \n",
              "  <svg xmlns=\"http://www.w3.org/2000/svg\" height=\"24px\"viewBox=\"0 0 24 24\"\n",
              "       width=\"24px\">\n",
              "    <path d=\"M0 0h24v24H0V0z\" fill=\"none\"/>\n",
              "    <path d=\"M18.56 5.44l.94 2.06.94-2.06 2.06-.94-2.06-.94-.94-2.06-.94 2.06-2.06.94zm-11 1L8.5 8.5l.94-2.06 2.06-.94-2.06-.94L8.5 2.5l-.94 2.06-2.06.94zm10 10l.94 2.06.94-2.06 2.06-.94-2.06-.94-.94-2.06-.94 2.06-2.06.94z\"/><path d=\"M17.41 7.96l-1.37-1.37c-.4-.4-.92-.59-1.43-.59-.52 0-1.04.2-1.43.59L10.3 9.45l-7.72 7.72c-.78.78-.78 2.05 0 2.83L4 21.41c.39.39.9.59 1.41.59.51 0 1.02-.2 1.41-.59l7.78-7.78 2.81-2.81c.8-.78.8-2.07 0-2.86zM5.41 20L4 18.59l7.72-7.72 1.47 1.35L5.41 20z\"/>\n",
              "  </svg>\n",
              "      </button>\n",
              "      \n",
              "  <style>\n",
              "    .colab-df-container {\n",
              "      display:flex;\n",
              "      flex-wrap:wrap;\n",
              "      gap: 12px;\n",
              "    }\n",
              "\n",
              "    .colab-df-convert {\n",
              "      background-color: #E8F0FE;\n",
              "      border: none;\n",
              "      border-radius: 50%;\n",
              "      cursor: pointer;\n",
              "      display: none;\n",
              "      fill: #1967D2;\n",
              "      height: 32px;\n",
              "      padding: 0 0 0 0;\n",
              "      width: 32px;\n",
              "    }\n",
              "\n",
              "    .colab-df-convert:hover {\n",
              "      background-color: #E2EBFA;\n",
              "      box-shadow: 0px 1px 2px rgba(60, 64, 67, 0.3), 0px 1px 3px 1px rgba(60, 64, 67, 0.15);\n",
              "      fill: #174EA6;\n",
              "    }\n",
              "\n",
              "    [theme=dark] .colab-df-convert {\n",
              "      background-color: #3B4455;\n",
              "      fill: #D2E3FC;\n",
              "    }\n",
              "\n",
              "    [theme=dark] .colab-df-convert:hover {\n",
              "      background-color: #434B5C;\n",
              "      box-shadow: 0px 1px 3px 1px rgba(0, 0, 0, 0.15);\n",
              "      filter: drop-shadow(0px 1px 2px rgba(0, 0, 0, 0.3));\n",
              "      fill: #FFFFFF;\n",
              "    }\n",
              "  </style>\n",
              "\n",
              "      <script>\n",
              "        const buttonEl =\n",
              "          document.querySelector('#df-43309021-9b05-4ee9-9429-a89a87a6a353 button.colab-df-convert');\n",
              "        buttonEl.style.display =\n",
              "          google.colab.kernel.accessAllowed ? 'block' : 'none';\n",
              "\n",
              "        async function convertToInteractive(key) {\n",
              "          const element = document.querySelector('#df-43309021-9b05-4ee9-9429-a89a87a6a353');\n",
              "          const dataTable =\n",
              "            await google.colab.kernel.invokeFunction('convertToInteractive',\n",
              "                                                     [key], {});\n",
              "          if (!dataTable) return;\n",
              "\n",
              "          const docLinkHtml = 'Like what you see? Visit the ' +\n",
              "            '<a target=\"_blank\" href=https://colab.research.google.com/notebooks/data_table.ipynb>data table notebook</a>'\n",
              "            + ' to learn more about interactive tables.';\n",
              "          element.innerHTML = '';\n",
              "          dataTable['output_type'] = 'display_data';\n",
              "          await google.colab.output.renderOutput(dataTable, element);\n",
              "          const docLink = document.createElement('div');\n",
              "          docLink.innerHTML = docLinkHtml;\n",
              "          element.appendChild(docLink);\n",
              "        }\n",
              "      </script>\n",
              "    </div>\n",
              "  </div>\n",
              "  "
            ]
          },
          "metadata": {},
          "execution_count": 31
        }
      ]
    },
    {
      "cell_type": "code",
      "source": [],
      "metadata": {
        "id": "v8MmqmTga0JQ"
      },
      "execution_count": null,
      "outputs": []
    },
    {
      "cell_type": "code",
      "source": [
        "#HearAttack = pd.get_dummies(HearAttack, columns = ['cp', 'restecg'])\n",
        "#HearAttack.head(6)"
      ],
      "metadata": {
        "id": "7bdsQH-qWmx_"
      },
      "execution_count": null,
      "outputs": []
    },
    {
      "cell_type": "code",
      "source": [
        "HearAttack.dtypes"
      ],
      "metadata": {
        "id": "6r5Naq1UAUBx",
        "colab": {
          "base_uri": "https://localhost:8080/"
        },
        "outputId": "63876f44-752f-47bd-f8a8-8e2ce2da43c9"
      },
      "execution_count": null,
      "outputs": [
        {
          "output_type": "execute_result",
          "data": {
            "text/plain": [
              "age              int64\n",
              "sex              int64\n",
              "trestbps       float64\n",
              "chol           float64\n",
              "fbs            float64\n",
              "thalach        float64\n",
              "exang          float64\n",
              "oldpeak        float64\n",
              "target           int64\n",
              "cp_2             uint8\n",
              "cp_3             uint8\n",
              "cp_4             uint8\n",
              "restecg_1.0      uint8\n",
              "restecg_2.0      uint8\n",
              "dtype: object"
            ]
          },
          "metadata": {},
          "execution_count": 33
        }
      ]
    },
    {
      "cell_type": "code",
      "source": [
        "# 1 importamos los modulos necesarios\n",
        "from sklearn.model_selection import train_test_split\n",
        "from sklearn.linear_model import LogisticRegression"
      ],
      "metadata": {
        "id": "Bu9ad8hQqr7q"
      },
      "execution_count": null,
      "outputs": []
    },
    {
      "cell_type": "code",
      "source": [
        "# 2 partimos los datos\n",
        "X = HearAttack.drop(columns=['target']).values\n",
        "y = HearAttack['target'].values\n",
        "\n",
        "X_train, X_test, y_train, y_test = train_test_split(X, y,\n",
        "                                                    test_size = 0.5,\n",
        "                                                    random_state=42,\n",
        "                                                    stratify = y)"
      ],
      "metadata": {
        "id": "f05uG5reqr-R"
      },
      "execution_count": null,
      "outputs": []
    },
    {
      "cell_type": "code",
      "source": [
        "# 3 Instanciamos el clasificador\n",
        "logreg = LogisticRegression(max_iter=600)"
      ],
      "metadata": {
        "id": "feNORCzQx_fX"
      },
      "execution_count": null,
      "outputs": []
    },
    {
      "cell_type": "code",
      "source": [
        "# 4 ajustamos el modelo sobre los datos de entrenamiento\n",
        "logreg.fit(X_train, y_train)"
      ],
      "metadata": {
        "id": "FrhtY3SJx_iE",
        "colab": {
          "base_uri": "https://localhost:8080/"
        },
        "outputId": "65844044-4ba5-42c6-cf6e-5cd5235ce815"
      },
      "execution_count": null,
      "outputs": [
        {
          "output_type": "execute_result",
          "data": {
            "text/plain": [
              "LogisticRegression(max_iter=600)"
            ]
          },
          "metadata": {},
          "execution_count": 37
        }
      ]
    },
    {
      "cell_type": "code",
      "source": [
        "# 5 Hacer pronosticos sobre los datos de prueba\n",
        "y_pred = logreg.predict(X_test)"
      ],
      "metadata": {
        "id": "lEWaKLqKx_lC"
      },
      "execution_count": null,
      "outputs": []
    },
    {
      "cell_type": "code",
      "source": [
        "# confusion matrix\n",
        "print(confusion_matrix(y_test, y_pred))"
      ],
      "metadata": {
        "id": "7vBW3q8iqsDD",
        "colab": {
          "base_uri": "https://localhost:8080/"
        },
        "outputId": "72fec641-cff6-45a1-a6be-aa873c324b8a"
      },
      "execution_count": null,
      "outputs": [
        {
          "output_type": "stream",
          "name": "stdout",
          "text": [
            "[[78  4]\n",
            " [14 35]]\n"
          ]
        }
      ]
    },
    {
      "cell_type": "code",
      "source": [
        "print(classification_report(y_test, y_pred))"
      ],
      "metadata": {
        "id": "OLj6yZ7-7apd",
        "colab": {
          "base_uri": "https://localhost:8080/"
        },
        "outputId": "e305e81e-f9b9-46a8-f864-b1bd639f6835"
      },
      "execution_count": null,
      "outputs": [
        {
          "output_type": "stream",
          "name": "stdout",
          "text": [
            "              precision    recall  f1-score   support\n",
            "\n",
            "           0       0.85      0.95      0.90        82\n",
            "           1       0.90      0.71      0.80        49\n",
            "\n",
            "    accuracy                           0.86       131\n",
            "   macro avg       0.87      0.83      0.85       131\n",
            "weighted avg       0.87      0.86      0.86       131\n",
            "\n"
          ]
        }
      ]
    },
    {
      "cell_type": "code",
      "source": [
        "# Construimos un DataFrame para comparar que esta ocurriendo con las probabilidades"
      ],
      "metadata": {
        "id": "PKDSpPS80Kuu"
      },
      "execution_count": null,
      "outputs": []
    },
    {
      "cell_type": "code",
      "source": [
        "probabilidades_df = pd.DataFrame(logreg.predict_proba(X_test), columns = ['probabilidad_de_C0', 'probabilidad_de_C1'])\n",
        "probabilidades_df.head()"
      ],
      "metadata": {
        "id": "cAMYoQJNUtdO",
        "colab": {
          "base_uri": "https://localhost:8080/",
          "height": 206
        },
        "outputId": "691de1c5-ae2f-4f5c-bfbe-3a31e0af457f"
      },
      "execution_count": null,
      "outputs": [
        {
          "output_type": "execute_result",
          "data": {
            "text/plain": [
              "   probabilidad_de_C0  probabilidad_de_C1\n",
              "0            0.881828            0.118172\n",
              "1            0.025194            0.974806\n",
              "2            0.876246            0.123754\n",
              "3            0.928657            0.071343\n",
              "4            0.080429            0.919571"
            ],
            "text/html": [
              "\n",
              "  <div id=\"df-a60acab1-991b-4665-ae44-fac912738e66\">\n",
              "    <div class=\"colab-df-container\">\n",
              "      <div>\n",
              "<style scoped>\n",
              "    .dataframe tbody tr th:only-of-type {\n",
              "        vertical-align: middle;\n",
              "    }\n",
              "\n",
              "    .dataframe tbody tr th {\n",
              "        vertical-align: top;\n",
              "    }\n",
              "\n",
              "    .dataframe thead th {\n",
              "        text-align: right;\n",
              "    }\n",
              "</style>\n",
              "<table border=\"1\" class=\"dataframe\">\n",
              "  <thead>\n",
              "    <tr style=\"text-align: right;\">\n",
              "      <th></th>\n",
              "      <th>probabilidad_de_C0</th>\n",
              "      <th>probabilidad_de_C1</th>\n",
              "    </tr>\n",
              "  </thead>\n",
              "  <tbody>\n",
              "    <tr>\n",
              "      <th>0</th>\n",
              "      <td>0.881828</td>\n",
              "      <td>0.118172</td>\n",
              "    </tr>\n",
              "    <tr>\n",
              "      <th>1</th>\n",
              "      <td>0.025194</td>\n",
              "      <td>0.974806</td>\n",
              "    </tr>\n",
              "    <tr>\n",
              "      <th>2</th>\n",
              "      <td>0.876246</td>\n",
              "      <td>0.123754</td>\n",
              "    </tr>\n",
              "    <tr>\n",
              "      <th>3</th>\n",
              "      <td>0.928657</td>\n",
              "      <td>0.071343</td>\n",
              "    </tr>\n",
              "    <tr>\n",
              "      <th>4</th>\n",
              "      <td>0.080429</td>\n",
              "      <td>0.919571</td>\n",
              "    </tr>\n",
              "  </tbody>\n",
              "</table>\n",
              "</div>\n",
              "      <button class=\"colab-df-convert\" onclick=\"convertToInteractive('df-a60acab1-991b-4665-ae44-fac912738e66')\"\n",
              "              title=\"Convert this dataframe to an interactive table.\"\n",
              "              style=\"display:none;\">\n",
              "        \n",
              "  <svg xmlns=\"http://www.w3.org/2000/svg\" height=\"24px\"viewBox=\"0 0 24 24\"\n",
              "       width=\"24px\">\n",
              "    <path d=\"M0 0h24v24H0V0z\" fill=\"none\"/>\n",
              "    <path d=\"M18.56 5.44l.94 2.06.94-2.06 2.06-.94-2.06-.94-.94-2.06-.94 2.06-2.06.94zm-11 1L8.5 8.5l.94-2.06 2.06-.94-2.06-.94L8.5 2.5l-.94 2.06-2.06.94zm10 10l.94 2.06.94-2.06 2.06-.94-2.06-.94-.94-2.06-.94 2.06-2.06.94z\"/><path d=\"M17.41 7.96l-1.37-1.37c-.4-.4-.92-.59-1.43-.59-.52 0-1.04.2-1.43.59L10.3 9.45l-7.72 7.72c-.78.78-.78 2.05 0 2.83L4 21.41c.39.39.9.59 1.41.59.51 0 1.02-.2 1.41-.59l7.78-7.78 2.81-2.81c.8-.78.8-2.07 0-2.86zM5.41 20L4 18.59l7.72-7.72 1.47 1.35L5.41 20z\"/>\n",
              "  </svg>\n",
              "      </button>\n",
              "      \n",
              "  <style>\n",
              "    .colab-df-container {\n",
              "      display:flex;\n",
              "      flex-wrap:wrap;\n",
              "      gap: 12px;\n",
              "    }\n",
              "\n",
              "    .colab-df-convert {\n",
              "      background-color: #E8F0FE;\n",
              "      border: none;\n",
              "      border-radius: 50%;\n",
              "      cursor: pointer;\n",
              "      display: none;\n",
              "      fill: #1967D2;\n",
              "      height: 32px;\n",
              "      padding: 0 0 0 0;\n",
              "      width: 32px;\n",
              "    }\n",
              "\n",
              "    .colab-df-convert:hover {\n",
              "      background-color: #E2EBFA;\n",
              "      box-shadow: 0px 1px 2px rgba(60, 64, 67, 0.3), 0px 1px 3px 1px rgba(60, 64, 67, 0.15);\n",
              "      fill: #174EA6;\n",
              "    }\n",
              "\n",
              "    [theme=dark] .colab-df-convert {\n",
              "      background-color: #3B4455;\n",
              "      fill: #D2E3FC;\n",
              "    }\n",
              "\n",
              "    [theme=dark] .colab-df-convert:hover {\n",
              "      background-color: #434B5C;\n",
              "      box-shadow: 0px 1px 3px 1px rgba(0, 0, 0, 0.15);\n",
              "      filter: drop-shadow(0px 1px 2px rgba(0, 0, 0, 0.3));\n",
              "      fill: #FFFFFF;\n",
              "    }\n",
              "  </style>\n",
              "\n",
              "      <script>\n",
              "        const buttonEl =\n",
              "          document.querySelector('#df-a60acab1-991b-4665-ae44-fac912738e66 button.colab-df-convert');\n",
              "        buttonEl.style.display =\n",
              "          google.colab.kernel.accessAllowed ? 'block' : 'none';\n",
              "\n",
              "        async function convertToInteractive(key) {\n",
              "          const element = document.querySelector('#df-a60acab1-991b-4665-ae44-fac912738e66');\n",
              "          const dataTable =\n",
              "            await google.colab.kernel.invokeFunction('convertToInteractive',\n",
              "                                                     [key], {});\n",
              "          if (!dataTable) return;\n",
              "\n",
              "          const docLinkHtml = 'Like what you see? Visit the ' +\n",
              "            '<a target=\"_blank\" href=https://colab.research.google.com/notebooks/data_table.ipynb>data table notebook</a>'\n",
              "            + ' to learn more about interactive tables.';\n",
              "          element.innerHTML = '';\n",
              "          dataTable['output_type'] = 'display_data';\n",
              "          await google.colab.output.renderOutput(dataTable, element);\n",
              "          const docLink = document.createElement('div');\n",
              "          docLink.innerHTML = docLinkHtml;\n",
              "          element.appendChild(docLink);\n",
              "        }\n",
              "      </script>\n",
              "    </div>\n",
              "  </div>\n",
              "  "
            ]
          },
          "metadata": {},
          "execution_count": 42
        }
      ]
    },
    {
      "cell_type": "code",
      "source": [
        "outputs_df = (pd.DataFrame(logreg.predict_proba(X_test))\n",
        "                .drop(columns = [0])\n",
        "                .rename(columns = {1:'probabilidad_de_clase_01'})\n",
        "                .assign(Valores_reales = lambda x: y_test)\n",
        "                # .loc[:,['Valores_reales', ]]\n",
        "                .assign(output_with_default_threshold = lambda x: logreg.predict(X_test))\n",
        "                # # Creamos otros thresholds\n",
        "                .assign(dot_001_threshold = lambda x: np.where(x['probabilidad_de_clase_01'] >= 0.001, 1, 0))\n",
        "                .assign(dot_3_threshold   = lambda x: np.where(x['probabilidad_de_clase_01'] >= 0.3, 1, 0))\n",
        "                .assign(dot_92_threshold  = lambda x: np.where(x['probabilidad_de_clase_01'] >= 0.92, 1, 0))\n",
        "                .assign(dot_96_threshold = lambda x: np.where(x['probabilidad_de_clase_01'] >= 0.96, 1, 0))\n",
        "             )\n",
        "\n",
        "outputs_df.head(20)"
      ],
      "metadata": {
        "id": "zCYQhJEvz67C",
        "colab": {
          "base_uri": "https://localhost:8080/",
          "height": 740
        },
        "outputId": "97c49120-cd7b-45c7-a157-1e6fa759c090"
      },
      "execution_count": null,
      "outputs": [
        {
          "output_type": "execute_result",
          "data": {
            "text/plain": [
              "    probabilidad_de_clase_01  Valores_reales  output_with_default_threshold  \\\n",
              "0                   0.118172               1                              0   \n",
              "1                   0.974806               1                              1   \n",
              "2                   0.123754               0                              0   \n",
              "3                   0.071343               1                              0   \n",
              "4                   0.919571               1                              1   \n",
              "5                   0.820702               1                              1   \n",
              "6                   0.120596               0                              0   \n",
              "7                   0.038146               0                              0   \n",
              "8                   0.451994               1                              0   \n",
              "9                   0.081541               0                              0   \n",
              "10                  0.067662               0                              0   \n",
              "11                  0.031389               0                              0   \n",
              "12                  0.053075               1                              0   \n",
              "13                  0.974090               1                              1   \n",
              "14                  0.734800               0                              1   \n",
              "15                  0.060143               0                              0   \n",
              "16                  0.099380               0                              0   \n",
              "17                  0.154895               0                              0   \n",
              "18                  0.173904               0                              0   \n",
              "19                  0.242529               0                              0   \n",
              "\n",
              "    dot_001_threshold  dot_3_threshold  dot_92_threshold  dot_96_threshold  \n",
              "0                   1                0                 0                 0  \n",
              "1                   1                1                 1                 1  \n",
              "2                   1                0                 0                 0  \n",
              "3                   1                0                 0                 0  \n",
              "4                   1                1                 0                 0  \n",
              "5                   1                1                 0                 0  \n",
              "6                   1                0                 0                 0  \n",
              "7                   1                0                 0                 0  \n",
              "8                   1                1                 0                 0  \n",
              "9                   1                0                 0                 0  \n",
              "10                  1                0                 0                 0  \n",
              "11                  1                0                 0                 0  \n",
              "12                  1                0                 0                 0  \n",
              "13                  1                1                 1                 1  \n",
              "14                  1                1                 0                 0  \n",
              "15                  1                0                 0                 0  \n",
              "16                  1                0                 0                 0  \n",
              "17                  1                0                 0                 0  \n",
              "18                  1                0                 0                 0  \n",
              "19                  1                0                 0                 0  "
            ],
            "text/html": [
              "\n",
              "  <div id=\"df-0d3390b1-1571-459e-8d6d-86b44224f099\">\n",
              "    <div class=\"colab-df-container\">\n",
              "      <div>\n",
              "<style scoped>\n",
              "    .dataframe tbody tr th:only-of-type {\n",
              "        vertical-align: middle;\n",
              "    }\n",
              "\n",
              "    .dataframe tbody tr th {\n",
              "        vertical-align: top;\n",
              "    }\n",
              "\n",
              "    .dataframe thead th {\n",
              "        text-align: right;\n",
              "    }\n",
              "</style>\n",
              "<table border=\"1\" class=\"dataframe\">\n",
              "  <thead>\n",
              "    <tr style=\"text-align: right;\">\n",
              "      <th></th>\n",
              "      <th>probabilidad_de_clase_01</th>\n",
              "      <th>Valores_reales</th>\n",
              "      <th>output_with_default_threshold</th>\n",
              "      <th>dot_001_threshold</th>\n",
              "      <th>dot_3_threshold</th>\n",
              "      <th>dot_92_threshold</th>\n",
              "      <th>dot_96_threshold</th>\n",
              "    </tr>\n",
              "  </thead>\n",
              "  <tbody>\n",
              "    <tr>\n",
              "      <th>0</th>\n",
              "      <td>0.118172</td>\n",
              "      <td>1</td>\n",
              "      <td>0</td>\n",
              "      <td>1</td>\n",
              "      <td>0</td>\n",
              "      <td>0</td>\n",
              "      <td>0</td>\n",
              "    </tr>\n",
              "    <tr>\n",
              "      <th>1</th>\n",
              "      <td>0.974806</td>\n",
              "      <td>1</td>\n",
              "      <td>1</td>\n",
              "      <td>1</td>\n",
              "      <td>1</td>\n",
              "      <td>1</td>\n",
              "      <td>1</td>\n",
              "    </tr>\n",
              "    <tr>\n",
              "      <th>2</th>\n",
              "      <td>0.123754</td>\n",
              "      <td>0</td>\n",
              "      <td>0</td>\n",
              "      <td>1</td>\n",
              "      <td>0</td>\n",
              "      <td>0</td>\n",
              "      <td>0</td>\n",
              "    </tr>\n",
              "    <tr>\n",
              "      <th>3</th>\n",
              "      <td>0.071343</td>\n",
              "      <td>1</td>\n",
              "      <td>0</td>\n",
              "      <td>1</td>\n",
              "      <td>0</td>\n",
              "      <td>0</td>\n",
              "      <td>0</td>\n",
              "    </tr>\n",
              "    <tr>\n",
              "      <th>4</th>\n",
              "      <td>0.919571</td>\n",
              "      <td>1</td>\n",
              "      <td>1</td>\n",
              "      <td>1</td>\n",
              "      <td>1</td>\n",
              "      <td>0</td>\n",
              "      <td>0</td>\n",
              "    </tr>\n",
              "    <tr>\n",
              "      <th>5</th>\n",
              "      <td>0.820702</td>\n",
              "      <td>1</td>\n",
              "      <td>1</td>\n",
              "      <td>1</td>\n",
              "      <td>1</td>\n",
              "      <td>0</td>\n",
              "      <td>0</td>\n",
              "    </tr>\n",
              "    <tr>\n",
              "      <th>6</th>\n",
              "      <td>0.120596</td>\n",
              "      <td>0</td>\n",
              "      <td>0</td>\n",
              "      <td>1</td>\n",
              "      <td>0</td>\n",
              "      <td>0</td>\n",
              "      <td>0</td>\n",
              "    </tr>\n",
              "    <tr>\n",
              "      <th>7</th>\n",
              "      <td>0.038146</td>\n",
              "      <td>0</td>\n",
              "      <td>0</td>\n",
              "      <td>1</td>\n",
              "      <td>0</td>\n",
              "      <td>0</td>\n",
              "      <td>0</td>\n",
              "    </tr>\n",
              "    <tr>\n",
              "      <th>8</th>\n",
              "      <td>0.451994</td>\n",
              "      <td>1</td>\n",
              "      <td>0</td>\n",
              "      <td>1</td>\n",
              "      <td>1</td>\n",
              "      <td>0</td>\n",
              "      <td>0</td>\n",
              "    </tr>\n",
              "    <tr>\n",
              "      <th>9</th>\n",
              "      <td>0.081541</td>\n",
              "      <td>0</td>\n",
              "      <td>0</td>\n",
              "      <td>1</td>\n",
              "      <td>0</td>\n",
              "      <td>0</td>\n",
              "      <td>0</td>\n",
              "    </tr>\n",
              "    <tr>\n",
              "      <th>10</th>\n",
              "      <td>0.067662</td>\n",
              "      <td>0</td>\n",
              "      <td>0</td>\n",
              "      <td>1</td>\n",
              "      <td>0</td>\n",
              "      <td>0</td>\n",
              "      <td>0</td>\n",
              "    </tr>\n",
              "    <tr>\n",
              "      <th>11</th>\n",
              "      <td>0.031389</td>\n",
              "      <td>0</td>\n",
              "      <td>0</td>\n",
              "      <td>1</td>\n",
              "      <td>0</td>\n",
              "      <td>0</td>\n",
              "      <td>0</td>\n",
              "    </tr>\n",
              "    <tr>\n",
              "      <th>12</th>\n",
              "      <td>0.053075</td>\n",
              "      <td>1</td>\n",
              "      <td>0</td>\n",
              "      <td>1</td>\n",
              "      <td>0</td>\n",
              "      <td>0</td>\n",
              "      <td>0</td>\n",
              "    </tr>\n",
              "    <tr>\n",
              "      <th>13</th>\n",
              "      <td>0.974090</td>\n",
              "      <td>1</td>\n",
              "      <td>1</td>\n",
              "      <td>1</td>\n",
              "      <td>1</td>\n",
              "      <td>1</td>\n",
              "      <td>1</td>\n",
              "    </tr>\n",
              "    <tr>\n",
              "      <th>14</th>\n",
              "      <td>0.734800</td>\n",
              "      <td>0</td>\n",
              "      <td>1</td>\n",
              "      <td>1</td>\n",
              "      <td>1</td>\n",
              "      <td>0</td>\n",
              "      <td>0</td>\n",
              "    </tr>\n",
              "    <tr>\n",
              "      <th>15</th>\n",
              "      <td>0.060143</td>\n",
              "      <td>0</td>\n",
              "      <td>0</td>\n",
              "      <td>1</td>\n",
              "      <td>0</td>\n",
              "      <td>0</td>\n",
              "      <td>0</td>\n",
              "    </tr>\n",
              "    <tr>\n",
              "      <th>16</th>\n",
              "      <td>0.099380</td>\n",
              "      <td>0</td>\n",
              "      <td>0</td>\n",
              "      <td>1</td>\n",
              "      <td>0</td>\n",
              "      <td>0</td>\n",
              "      <td>0</td>\n",
              "    </tr>\n",
              "    <tr>\n",
              "      <th>17</th>\n",
              "      <td>0.154895</td>\n",
              "      <td>0</td>\n",
              "      <td>0</td>\n",
              "      <td>1</td>\n",
              "      <td>0</td>\n",
              "      <td>0</td>\n",
              "      <td>0</td>\n",
              "    </tr>\n",
              "    <tr>\n",
              "      <th>18</th>\n",
              "      <td>0.173904</td>\n",
              "      <td>0</td>\n",
              "      <td>0</td>\n",
              "      <td>1</td>\n",
              "      <td>0</td>\n",
              "      <td>0</td>\n",
              "      <td>0</td>\n",
              "    </tr>\n",
              "    <tr>\n",
              "      <th>19</th>\n",
              "      <td>0.242529</td>\n",
              "      <td>0</td>\n",
              "      <td>0</td>\n",
              "      <td>1</td>\n",
              "      <td>0</td>\n",
              "      <td>0</td>\n",
              "      <td>0</td>\n",
              "    </tr>\n",
              "  </tbody>\n",
              "</table>\n",
              "</div>\n",
              "      <button class=\"colab-df-convert\" onclick=\"convertToInteractive('df-0d3390b1-1571-459e-8d6d-86b44224f099')\"\n",
              "              title=\"Convert this dataframe to an interactive table.\"\n",
              "              style=\"display:none;\">\n",
              "        \n",
              "  <svg xmlns=\"http://www.w3.org/2000/svg\" height=\"24px\"viewBox=\"0 0 24 24\"\n",
              "       width=\"24px\">\n",
              "    <path d=\"M0 0h24v24H0V0z\" fill=\"none\"/>\n",
              "    <path d=\"M18.56 5.44l.94 2.06.94-2.06 2.06-.94-2.06-.94-.94-2.06-.94 2.06-2.06.94zm-11 1L8.5 8.5l.94-2.06 2.06-.94-2.06-.94L8.5 2.5l-.94 2.06-2.06.94zm10 10l.94 2.06.94-2.06 2.06-.94-2.06-.94-.94-2.06-.94 2.06-2.06.94z\"/><path d=\"M17.41 7.96l-1.37-1.37c-.4-.4-.92-.59-1.43-.59-.52 0-1.04.2-1.43.59L10.3 9.45l-7.72 7.72c-.78.78-.78 2.05 0 2.83L4 21.41c.39.39.9.59 1.41.59.51 0 1.02-.2 1.41-.59l7.78-7.78 2.81-2.81c.8-.78.8-2.07 0-2.86zM5.41 20L4 18.59l7.72-7.72 1.47 1.35L5.41 20z\"/>\n",
              "  </svg>\n",
              "      </button>\n",
              "      \n",
              "  <style>\n",
              "    .colab-df-container {\n",
              "      display:flex;\n",
              "      flex-wrap:wrap;\n",
              "      gap: 12px;\n",
              "    }\n",
              "\n",
              "    .colab-df-convert {\n",
              "      background-color: #E8F0FE;\n",
              "      border: none;\n",
              "      border-radius: 50%;\n",
              "      cursor: pointer;\n",
              "      display: none;\n",
              "      fill: #1967D2;\n",
              "      height: 32px;\n",
              "      padding: 0 0 0 0;\n",
              "      width: 32px;\n",
              "    }\n",
              "\n",
              "    .colab-df-convert:hover {\n",
              "      background-color: #E2EBFA;\n",
              "      box-shadow: 0px 1px 2px rgba(60, 64, 67, 0.3), 0px 1px 3px 1px rgba(60, 64, 67, 0.15);\n",
              "      fill: #174EA6;\n",
              "    }\n",
              "\n",
              "    [theme=dark] .colab-df-convert {\n",
              "      background-color: #3B4455;\n",
              "      fill: #D2E3FC;\n",
              "    }\n",
              "\n",
              "    [theme=dark] .colab-df-convert:hover {\n",
              "      background-color: #434B5C;\n",
              "      box-shadow: 0px 1px 3px 1px rgba(0, 0, 0, 0.15);\n",
              "      filter: drop-shadow(0px 1px 2px rgba(0, 0, 0, 0.3));\n",
              "      fill: #FFFFFF;\n",
              "    }\n",
              "  </style>\n",
              "\n",
              "      <script>\n",
              "        const buttonEl =\n",
              "          document.querySelector('#df-0d3390b1-1571-459e-8d6d-86b44224f099 button.colab-df-convert');\n",
              "        buttonEl.style.display =\n",
              "          google.colab.kernel.accessAllowed ? 'block' : 'none';\n",
              "\n",
              "        async function convertToInteractive(key) {\n",
              "          const element = document.querySelector('#df-0d3390b1-1571-459e-8d6d-86b44224f099');\n",
              "          const dataTable =\n",
              "            await google.colab.kernel.invokeFunction('convertToInteractive',\n",
              "                                                     [key], {});\n",
              "          if (!dataTable) return;\n",
              "\n",
              "          const docLinkHtml = 'Like what you see? Visit the ' +\n",
              "            '<a target=\"_blank\" href=https://colab.research.google.com/notebooks/data_table.ipynb>data table notebook</a>'\n",
              "            + ' to learn more about interactive tables.';\n",
              "          element.innerHTML = '';\n",
              "          dataTable['output_type'] = 'display_data';\n",
              "          await google.colab.output.renderOutput(dataTable, element);\n",
              "          const docLink = document.createElement('div');\n",
              "          docLink.innerHTML = docLinkHtml;\n",
              "          element.appendChild(docLink);\n",
              "        }\n",
              "      </script>\n",
              "    </div>\n",
              "  </div>\n",
              "  "
            ]
          },
          "metadata": {},
          "execution_count": 43
        }
      ]
    },
    {
      "cell_type": "markdown",
      "metadata": {
        "id": "nMYpoxp-16v_"
      },
      "source": [
        "Que pasa con las __matrices de confusión__ si variamos el __threshold__?"
      ]
    },
    {
      "cell_type": "code",
      "source": [
        "# confusion matrix con threshold = 0.3\n",
        "print('Matrix para un threshold de 0.5')\n",
        "print(confusion_matrix(outputs_df['Valores_reales'], outputs_df['output_with_default_threshold']))\n",
        "\n",
        "print('-'*60)\n",
        "print('Matrix para un threshold de 0.001')\n",
        "print(confusion_matrix(outputs_df['Valores_reales'], outputs_df['dot_001_threshold']))\n",
        "\n",
        "print('-'*60)\n",
        "print('Matrix para un threshold de 0.3')\n",
        "print(confusion_matrix(outputs_df['Valores_reales'], outputs_df['dot_3_threshold']))\n",
        "\n",
        "print('-'*60)\n",
        "print('Matrix para un threshold de 0.92')\n",
        "print(confusion_matrix(outputs_df['Valores_reales'], outputs_df['dot_92_threshold']))\n",
        "\n",
        "print('-'*60)\n",
        "print('Matrix para un threshold de 0.96')\n",
        "print(confusion_matrix(outputs_df['Valores_reales'], outputs_df['dot_96_threshold']))"
      ],
      "metadata": {
        "id": "u-KW3xvp5oOl",
        "colab": {
          "base_uri": "https://localhost:8080/"
        },
        "outputId": "5c7caca6-9b3b-4c61-e105-a3ddb1a75da8"
      },
      "execution_count": null,
      "outputs": [
        {
          "output_type": "stream",
          "name": "stdout",
          "text": [
            "Matrix para un threshold de 0.5\n",
            "[[78  4]\n",
            " [14 35]]\n",
            "------------------------------------------------------------\n",
            "Matrix para un threshold de 0.001\n",
            "[[ 0 82]\n",
            " [ 0 49]]\n",
            "------------------------------------------------------------\n",
            "Matrix para un threshold de 0.3\n",
            "[[69 13]\n",
            " [10 39]]\n",
            "------------------------------------------------------------\n",
            "Matrix para un threshold de 0.92\n",
            "[[82  0]\n",
            " [39 10]]\n",
            "------------------------------------------------------------\n",
            "Matrix para un threshold de 0.96\n",
            "[[82  0]\n",
            " [42  7]]\n"
          ]
        }
      ]
    },
    {
      "cell_type": "markdown",
      "source": [
        "__Y si queremos analizar todos los thresholds?__"
      ],
      "metadata": {
        "id": "oQZnyiYgaQ1A"
      }
    },
    {
      "cell_type": "markdown",
      "metadata": {
        "id": "UqMOUGJsmaWq"
      },
      "source": [
        "## ROC"
      ]
    },
    {
      "cell_type": "markdown",
      "source": [
        "Cuando el __threshold__ es igual a cero, el modelo predice que todos los datos tienen categoría positiva (Sí __p__ es mayor o igual a cero entonces la etiqueta es 1), esto implica que tanto la tasa de verdaderos positivos como la tasa de falsos positivos sean iguales a 1.\n",
        "\n",
        "En el otro extremo, cuando el __threshold__ es igual a 1, el modelo predice que todos los datos tienen categoría negativa (Sí __p__ es mayor o igual a uno entonces la etiqueta es 1), esto implica que tanto la tasa de verdaderos positivos como la tasa de falsos positivos sean iguales a 0.\n",
        "\n",
        "Si variamos el __threshold__ entre estos dos extremos, obtendremos una serie de diferentes valores para la tasa de verdaderos positivos y falsos positivos.\n",
        "\n",
        "ROC (Reciber operator characteristic) son curvas para resumir visualmente toda la información si consideramos todas las variaciones del __threshold__, dicho de otra forma es el conjunto de resultados que obtenemos al variar sobre cada posible __threshold__."
      ],
      "metadata": {
        "id": "v_HJ7rqdbrut"
      }
    },
    {
      "cell_type": "markdown",
      "metadata": {
        "id": "SedUEt1l5B83"
      },
      "source": [
        "la forma de crear está gráfica es la siguiente:\n",
        "\n",
        "* En el eje de las Ys mapeamos el __True Positive Rate (Sensitivity)__ = TP/(TP + FN), recuerda que el True positive rate nos indica la proporcion de observaciones con clase positiva que fueron correctamente clasificadas\n",
        "\n",
        "* En el eje de las Xs mapeamos el __False Positive Rate (1 - specificity)__ = FP/(FP + TN), recuerda que el False positive rate nos indica la proporcion de clases negativas que fueron incorrectamente clasificadas\n",
        "\n"
      ]
    },
    {
      "cell_type": "markdown",
      "metadata": {
        "id": "y2FP1giGCXRP"
      },
      "source": [
        "Para gráficar la curva ROC importamos __`roc_curve`__ del módulo __metrics__ de __scikit learn__"
      ]
    },
    {
      "cell_type": "markdown",
      "metadata": {
        "id": "CCwOvWxFCuSd"
      },
      "source": [
        "\n",
        "\n",
        "```python\n",
        "from sklearn.metrics import roc_curve\n",
        "```\n",
        "\n"
      ]
    },
    {
      "cell_type": "markdown",
      "metadata": {
        "id": "pjbohkxGDjJ3"
      },
      "source": [
        "Tomamos la segunda columna (las probabilidades) del resultado arrojado por el método `.predict_proba()` (aplicado al modelo) usando `X_test` como argumento.\n",
        "\n",
        "Cada una de las columnas que arroja `.predict_proba()` contiene la probabilidad para cada una de las etiquetas de la variable target, seleccionamos la segunda columna (con índice 1), es decir, las probabilidades cuando la etiqueta es pronosticada como 1."
      ]
    },
    {
      "cell_type": "markdown",
      "metadata": {
        "id": "3J-h0sTUEAQh"
      },
      "source": [
        "\n",
        "\n",
        "```python\n",
        "y_pred_prob = logreg.predict_proba(X_test)[:,1]\n",
        "```\n",
        "\n"
      ]
    },
    {
      "cell_type": "markdown",
      "metadata": {
        "id": "MnPEZYjGEU9K"
      },
      "source": [
        "Ahora llamamos a la función `roc_curve()` usando como primer argumento las etiquetas reales del conjunto de prueba `y_test`, como segundo argumento `y_pred_prob` (las probabilidades) y desempacamos los resultados en tres variables:\n",
        "\n",
        "* `fpr` el False Positive Rate\n",
        "* `tpr` el True Positive Rate\n",
        "* `thresholds` los puntos de corte"
      ]
    },
    {
      "cell_type": "markdown",
      "metadata": {
        "id": "EtCQgQdHFanS"
      },
      "source": [
        "\n",
        "\n",
        "```python\n",
        "fpr, tpr, thresholds = roc_curve(y_test, y_pred_prob)\n",
        "```\n",
        "\n"
      ]
    },
    {
      "cell_type": "markdown",
      "metadata": {
        "id": "3o9RY8z7Fl2D"
      },
      "source": [
        "Ejemplo:"
      ]
    },
    {
      "cell_type": "code",
      "metadata": {
        "id": "IdOIyt7tFYVk"
      },
      "source": [
        "from sklearn.metrics import roc_curve"
      ],
      "execution_count": null,
      "outputs": []
    },
    {
      "cell_type": "code",
      "metadata": {
        "id": "wiybYq2qFqjw"
      },
      "source": [
        "y_pred_prob = logreg.predict_proba(X_test)[:,1]\n",
        "fpr, tpr, thresholds = roc_curve(y_test, y_pred_prob)"
      ],
      "execution_count": null,
      "outputs": []
    },
    {
      "cell_type": "markdown",
      "metadata": {
        "id": "cjevJCTUE1Pw"
      },
      "source": [
        "podmeos usar fpr y tpr para gráficar la curva de la siguiente forma:"
      ]
    },
    {
      "cell_type": "code",
      "metadata": {
        "id": "Y3yyOKvYGSio",
        "colab": {
          "base_uri": "https://localhost:8080/",
          "height": 295
        },
        "outputId": "593783df-6bbc-4f1a-df06-8bb51724d30b"
      },
      "source": [
        "plt.plot([0, 1], [0, 1],'k--')\n",
        "plt.plot(fpr, tpr, label='Regresión Logística')\n",
        "plt.ylabel('TP Rate')\n",
        "plt.xlabel('FP Rate')\n",
        "plt.title('Curva ROC - Regresión Logística')\n",
        "plt.show()"
      ],
      "execution_count": null,
      "outputs": [
        {
          "output_type": "display_data",
          "data": {
            "text/plain": [
              "<Figure size 432x288 with 1 Axes>"
            ],
            "image/png": "[encoded data removed]"
          },
          "metadata": {
            "needs_background": "light"
          }
        }
      ]
    },
    {
      "cell_type": "markdown",
      "metadata": {
        "id": "8LSjBsJ3SmS9"
      },
      "source": [
        "## AUC"
      ]
    },
    {
      "cell_type": "markdown",
      "source": [
        "Esta metrica representa el area bajo la curva ROC, entre mas grande mejor y se interpreta como que el modelo tiene una muy buena capacidad para separar entre clases"
      ],
      "metadata": {
        "id": "iBNF2IFSdABr"
      }
    },
    {
      "cell_type": "code",
      "metadata": {
        "id": "8fDPFDniEzeO",
        "colab": {
          "base_uri": "https://localhost:8080/"
        },
        "outputId": "84e8b190-025d-4f9c-e1eb-f3e70f0b61d6"
      },
      "source": [
        "from sklearn.metrics import roc_auc_score\n",
        "logreg = LogisticRegression(max_iter=2000)\n",
        "X_train, X_test, y_train, y_test = train_test_split(X, y,\n",
        "                                                    test_size=0.4, \n",
        "                                                    random_state=42,\n",
        "                                                    stratify = y)\n",
        "logreg.fit(X_train, y_train)\n",
        "y_pred_prob = logreg.predict_proba(X_test)[:,1]\n",
        "roc_auc_score(y_test, y_pred_prob)"
      ],
      "execution_count": null,
      "outputs": [
        {
          "output_type": "execute_result",
          "data": {
            "text/plain": [
              "0.9083139083139083"
            ]
          },
          "metadata": {},
          "execution_count": 48
        }
      ]
    },
    {
      "cell_type": "markdown",
      "metadata": {
        "id": "2Gs2Gpe6mOxW"
      },
      "source": [
        "## Regularización"
      ]
    },
    {
      "cell_type": "markdown",
      "metadata": {
        "id": "B6Rf1_dbmz4F"
      },
      "source": [
        "En scikit learn podemos penalizar las regresiones logisticas agregando regularización L1 o L2, de hecho por defecto L2 es usado.\n",
        "\n",
        "en scikit learn especificamos los siguientes paramentros\n",
        "\n",
        "* `penalty` que puede ser `l1`, `l2`, `elasticnet`, `none`\n",
        "* `C` que es la fuerza inversa de regularización análogo a alpha\n",
        "\n",
        "\n"
      ]
    },
    {
      "cell_type": "markdown",
      "source": [
        "__NOTA__ posiblemente necesites usar diferentes paramentros para `solver`"
      ],
      "metadata": {
        "id": "R1mL2LQagjuo"
      }
    },
    {
      "cell_type": "markdown",
      "source": [
        "Ejemplo"
      ],
      "metadata": {
        "id": "JnJQUp_lf6tC"
      }
    },
    {
      "cell_type": "code",
      "source": [
        "logreg = LogisticRegression(C=0.01, penalty=\"l1\", solver = \"saga\")\n",
        "X_train, X_test, y_train, y_test = train_test_split(X, y,\n",
        "                                                    test_size=0.4, \n",
        "                                                    random_state=42,\n",
        "                                                    stratify = y)\n",
        "logreg.fit(X_train, y_train)\n",
        "y_pred = logreg.predict(X_test)"
      ],
      "metadata": {
        "id": "vPAAAHnMf7pT"
      },
      "execution_count": null,
      "outputs": []
    },
    {
      "cell_type": "code",
      "source": [
        "print(classification_report(y_test, y_pred))"
      ],
      "metadata": {
        "id": "6Ps4ekAgfZP_",
        "colab": {
          "base_uri": "https://localhost:8080/"
        },
        "outputId": "edf2ecc3-089d-42f0-eb18-1773c184182a"
      },
      "execution_count": null,
      "outputs": [
        {
          "output_type": "stream",
          "name": "stdout",
          "text": [
            "              precision    recall  f1-score   support\n",
            "\n",
            "           0       0.74      0.85      0.79        66\n",
            "           1       0.66      0.49      0.56        39\n",
            "\n",
            "    accuracy                           0.71       105\n",
            "   macro avg       0.70      0.67      0.67       105\n",
            "weighted avg       0.71      0.71      0.70       105\n",
            "\n"
          ]
        }
      ]
    },
    {
      "cell_type": "markdown",
      "source": [
        "Ejemplo "
      ],
      "metadata": {
        "id": "IOijusqmgzDn"
      }
    },
    {
      "cell_type": "markdown",
      "source": [
        "Regresion logistiva vs modelos penalizados"
      ],
      "metadata": {
        "id": "d2UCfpeUhIwF"
      }
    },
    {
      "cell_type": "code",
      "source": [
        "# Compara el mejor modelo visualmente usando ROC"
      ],
      "metadata": {
        "id": "3iFbH5_Hgyfk"
      },
      "execution_count": null,
      "outputs": []
    },
    {
      "cell_type": "code",
      "source": [
        "X_train, X_test, y_train, y_test = train_test_split(X, y,\n",
        "                                                    test_size=0.4, \n",
        "                                                    random_state=42,\n",
        "                                                    stratify = y)"
      ],
      "metadata": {
        "id": "h0qbnhFRg-_7"
      },
      "execution_count": null,
      "outputs": []
    },
    {
      "cell_type": "code",
      "source": [
        "lr = LogisticRegression(max_iter=2000).fit(X_train, y_train)\n",
        "lr_l1_01 = LogisticRegression(C=0.01, penalty=\"l1\", solver = \"saga\").fit(X_train, y_train)"
      ],
      "metadata": {
        "id": "-TZC_3uQg_Cq"
      },
      "execution_count": null,
      "outputs": []
    },
    {
      "cell_type": "code",
      "source": [
        "from sklearn.metrics import roc_auc_score, plot_roc_curve"
      ],
      "metadata": {
        "id": "0d3DV6Lzg_JU"
      },
      "execution_count": null,
      "outputs": []
    },
    {
      "cell_type": "code",
      "source": [
        "lr_curva = plot_roc_curve(lr, X_test, y_test)\n",
        "lr_l1_curva = plot_roc_curve(lr_l1_01, X_test, y_test)"
      ],
      "metadata": {
        "id": "Yx2yWlvFg_PC",
        "colab": {
          "base_uri": "https://localhost:8080/",
          "height": 630
        },
        "outputId": "1449e4ed-664a-44ab-e6bb-c8cf547ead3f"
      },
      "execution_count": null,
      "outputs": [
        {
          "output_type": "stream",
          "name": "stderr",
          "text": [
            "/usr/local/lib/python3.7/dist-packages/sklearn/utils/deprecation.py:87: FutureWarning: Function plot_roc_curve is deprecated; Function :func:`plot_roc_curve` is deprecated in 1.0 and will be removed in 1.2. Use one of the class methods: :meth:`sklearn.metric.RocCurveDisplay.from_predictions` or :meth:`sklearn.metric.RocCurveDisplay.from_estimator`.\n",
            "  warnings.warn(msg, category=FutureWarning)\n",
            "/usr/local/lib/python3.7/dist-packages/sklearn/utils/deprecation.py:87: FutureWarning: Function plot_roc_curve is deprecated; Function :func:`plot_roc_curve` is deprecated in 1.0 and will be removed in 1.2. Use one of the class methods: :meth:`sklearn.metric.RocCurveDisplay.from_predictions` or :meth:`sklearn.metric.RocCurveDisplay.from_estimator`.\n",
            "  warnings.warn(msg, category=FutureWarning)\n"
          ]
        },
        {
          "output_type": "display_data",
          "data": {
            "text/plain": [
              "<Figure size 432x288 with 1 Axes>"
            ],
            "image/png": "[encoded data removed]"
          },
          "metadata": {
            "needs_background": "light"
          }
        },
        {
          "output_type": "display_data",
          "data": {
            "text/plain": [
              "<Figure size 432x288 with 1 Axes>"
            ],
            "image/png": "[encoded data removed]"
          },
          "metadata": {
            "needs_background": "light"
          }
        }
      ]
    },
    {
      "cell_type": "code",
      "source": [
        "ax = plt.gca()\n",
        "lr_curva.plot(ax = ax, alpha = 0.8, label='logistic regression')\n",
        "lr_l1_curva.plot(ax = ax, alpha = 0.8, label='logistic regression L1')"
      ],
      "metadata": {
        "id": "MXEZtAkflBJH",
        "colab": {
          "base_uri": "https://localhost:8080/",
          "height": 296
        },
        "outputId": "7750e29c-a927-4075-9899-31a7a85b6a5a"
      },
      "execution_count": null,
      "outputs": [
        {
          "output_type": "execute_result",
          "data": {
            "text/plain": [
              "<sklearn.metrics._plot.roc_curve.RocCurveDisplay at 0x7fe56a925ed0>"
            ]
          },
          "metadata": {},
          "execution_count": 56
        },
        {
          "output_type": "display_data",
          "data": {
            "text/plain": [
              "<Figure size 432x288 with 1 Axes>"
            ],
            "image/png": "[encoded data removed]"
          },
          "metadata": {
            "needs_background": "light"
          }
        }
      ]
    },
    {
      "cell_type": "markdown",
      "metadata": {
        "id": "NC2p-IO4n5VV"
      },
      "source": [
        "## Ejercicio 01"
      ]
    },
    {
      "cell_type": "markdown",
      "metadata": {
        "id": "UNemKm2jOmbJ"
      },
      "source": [
        "Considera los datos de `Heart_Attack.csv` y el threshold por defecto"
      ]
    },
    {
      "cell_type": "code",
      "metadata": {
        "id": "4Zy6qfMXqTfY"
      },
      "source": [
        "HearAttack = (pd.read_csv('https://raw.githubusercontent.com/edroga/Datasets_for_projects/main/Heart_Attack.csv',\n",
        "                          na_values='?')\n",
        "              .drop(columns = ['slope', 'ca', 'thal'])\n",
        "              .rename(columns={'num       ': 'target'})\n",
        "              .dropna()\n",
        "              )\n",
        "\n",
        "HearAttack = pd.get_dummies(HearAttack, columns = ['cp', 'restecg'], drop_first = True)\n",
        "\n",
        "X = HearAttack.drop(columns=['target']).values\n",
        "y = HearAttack['target'].values\n",
        "\n",
        "X_train, X_test, y_train, y_test = train_test_split(X, y,\n",
        "                                                    test_size = 0.5,\n",
        "                                                    random_state=42,\n",
        "                                                    stratify = y)"
      ],
      "execution_count": 13,
      "outputs": []
    },
    {
      "cell_type": "markdown",
      "source": [
        "* Ajusta un modelo con penalización l1, prueba diferentes valores para los hiperparametros\n",
        "* Realiza 10 validaciones cruzadas y optimiza para AUC\n",
        "* Cual es el hiperparamentro que generaliza mejor tu modelo?\n",
        "\n",
        "`LogisticRegression(penalty = l1, C = ?)`"
      ],
      "metadata": {
        "id": "o5uhysgK__uy"
      }
    },
    {
      "cell_type": "code",
      "source": [
        "# Respuesta\n",
        "from sklearn.model_selection import KFold, cross_validate, train_test_split\n",
        "Cs = [.1, .2, .3, .4, .5, .6, .7, .8, .9]\n",
        "training_scores=[]\n",
        "test_scores=[]\n",
        "\n",
        "for i in Cs:\n",
        "  lr=LogisticRegression(penalty =\"l1\",C=i, solver='liblinear', random_state=123,max_iter=10000)\n",
        "  kf=KFold(n_splits=10,shuffle=True, random_state=123)\n",
        "  clf=cross_validate(lr,X_train,y_train,scoring='roc_auc',return_train_score=True,cv=kf)\n",
        "  training_scores.append(np.mean(clf['train_score']))\n",
        "  test_scores.append(np.mean(clf['test_score']))\n",
        "print(list(zip(Cs, training_scores)))\n",
        "print(list(zip(Cs, test_scores)))\n"
      ],
      "metadata": {
        "id": "mGrwuLLh_-dt",
        "colab": {
          "base_uri": "https://localhost:8080/"
        },
        "outputId": "1a84f6dc-d5d5-4cce-d720-a6278db93ad6"
      },
      "execution_count": 14,
      "outputs": [
        {
          "output_type": "stream",
          "name": "stdout",
          "text": [
            "[(0.1, 0.8088666734948784), (0.2, 0.8723747662482205), (0.3, 0.8927852316943286), (0.4, 0.9009120534219235), (0.5, 0.9044534297630576), (0.6, 0.9062329658768791), (0.7, 0.9075052792605469), (0.8, 0.9086845013335951), (0.9, 0.9087790839699472)]\n",
            "[(0.1, 0.799484126984127), (0.2, 0.8393253968253969), (0.3, 0.8615079365079366), (0.4, 0.8746608946608946), (0.5, 0.8653354978354978), (0.6, 0.870494227994228), (0.7, 0.867994227994228), (0.8, 0.8654942279942279), (0.9, 0.8678751803751803)]\n"
          ]
        }
      ]
    },
    {
      "cell_type": "code",
      "source": [
        "# El parámetro que generaliza mejor el modelo es C = 0.4, con un AUC de 0.8746608946608946"
      ],
      "metadata": {
        "id": "X4hfp7PL0wgS"
      },
      "execution_count": null,
      "outputs": []
    },
    {
      "cell_type": "markdown",
      "source": [
        "* Ajusta un modelo con penalización l2, prueba diferentes valores para los hiperparametros\n",
        "* Realiza 10 validaciones cruzadas optimizar para AUC\n",
        "* Cual es el hiperparamentro que generaliza mejor tu modelo?\n",
        "\n",
        "\n",
        "`LogisticRegression(penalty = l2, C = ?)`"
      ],
      "metadata": {
        "id": "0ag_42DCBOdo"
      }
    },
    {
      "cell_type": "code",
      "source": [
        "# Respuesta\n",
        "Cs = [.1, .2, .3, .4, .5, .6, .7, .8, .9]\n",
        "\n",
        "training_scores=[]\n",
        "test_scores=[]\n",
        "\n",
        "for i in Cs:\n",
        "  lr=LogisticRegression(penalty =\"l2\",C=i, solver='liblinear', random_state=123,max_iter=10000)\n",
        "  kf=KFold(n_splits=10,shuffle=True, random_state=123)\n",
        "  clf=cross_validate(lr,X_train,y_train,scoring='roc_auc',return_train_score=True,cv=kf)\n",
        "  training_scores.append(np.mean(clf['train_score']))\n",
        "  test_scores.append(np.mean(clf['test_score']))\n",
        "print(list(zip(Cs, training_scores)))\n",
        "print(list(zip(Cs, test_scores)))"
      ],
      "metadata": {
        "id": "VNEdbFEe_YIr",
        "colab": {
          "base_uri": "https://localhost:8080/"
        },
        "outputId": "e71fade8-9735-4747-fbe5-f818718f5bec"
      },
      "execution_count": 18,
      "outputs": [
        {
          "output_type": "stream",
          "name": "stdout",
          "text": [
            "[(0.1, 0.88606066417954), (0.2, 0.8994449976088287), (0.3, 0.9041819678963836), (0.4, 0.9072305472580189), (0.5, 0.9089079613890286), (0.6, 0.9099345642452361), (0.7, 0.9104957942083904), (0.8, 0.9112709567021351), (0.9, 0.9113358921762732)]\n",
            "[(0.1, 0.8406349206349206), (0.2, 0.8635497835497835), (0.3, 0.8721608946608947), (0.4, 0.87005772005772), (0.5, 0.8752164502164502), (0.6, 0.8727164502164502), (0.7, 0.8725974025974026), (0.8, 0.8752561327561328), (0.9, 0.8752561327561328)]\n"
          ]
        }
      ]
    },
    {
      "cell_type": "code",
      "source": [
        "# El parámetro que generaliza mejor el modelo es C = 0.8, con un AUC de 0.8752561327561328"
      ],
      "metadata": {
        "id": "AAdtzd550-zM"
      },
      "execution_count": null,
      "outputs": []
    },
    {
      "cell_type": "markdown",
      "source": [
        "## Ejercicio 02"
      ],
      "metadata": {
        "id": "1pkMVVJRCBnY"
      }
    },
    {
      "cell_type": "markdown",
      "source": [
        "Considera los datos de donadores `basetable.csv`"
      ],
      "metadata": {
        "id": "5eTh5IUICE-5"
      }
    },
    {
      "cell_type": "code",
      "source": [
        "basetable = pd.read_csv('https://raw.githubusercontent.com/edroga/Datasets_for_projects/main/basetable.csv')\n",
        "\n",
        "X = basetable[['age', 'gender_F', 'time_since_last_gift']].values\n",
        "y = basetable['target'].values\n",
        "\n",
        "X_train, X_test, y_train, y_test = train_test_split(X, y,\n",
        "                                                    test_size = 0.20,\n",
        "                                                    random_state=42,\n",
        "                                                    stratify = y\n",
        "                                                    )"
      ],
      "metadata": {
        "id": "WaCXNLog_YL5"
      },
      "execution_count": 19,
      "outputs": []
    },
    {
      "cell_type": "markdown",
      "metadata": {
        "id": "EziB6Yp6LJWY"
      },
      "source": [
        "* A partir de la variable target obten la frecuencia de cada una de sus clases, notas algo extraño?"
      ]
    },
    {
      "cell_type": "code",
      "metadata": {
        "id": "oR-ohmXqqihx",
        "colab": {
          "base_uri": "https://localhost:8080/"
        },
        "outputId": "7ca3890b-049c-4216-fa2e-2579563ac8f8"
      },
      "source": [
        "pd.Series(y).value_counts()"
      ],
      "execution_count": 22,
      "outputs": [
        {
          "output_type": "execute_result",
          "data": {
            "text/plain": [
              "0    23813\n",
              "1     1187\n",
              "dtype: int64"
            ]
          },
          "metadata": {},
          "execution_count": 22
        }
      ]
    },
    {
      "cell_type": "markdown",
      "metadata": {
        "id": "FK58NsDgLSoh"
      },
      "source": [
        "* Obten una tasa de la clase positiva por cada 100 registros de la clase negativa"
      ]
    },
    {
      "cell_type": "code",
      "metadata": {
        "id": "jk7GWRshq8a-",
        "colab": {
          "base_uri": "https://localhost:8080/"
        },
        "outputId": "f5599100-ef99-4383-95ba-61f063c7c397"
      },
      "source": [
        "# Ratio\n",
        "sum(y)/(len(y)-sum(y))"
      ],
      "execution_count": 45,
      "outputs": [
        {
          "output_type": "execute_result",
          "data": {
            "text/plain": [
              "0.049846722378532736"
            ]
          },
          "metadata": {},
          "execution_count": 45
        }
      ]
    },
    {
      "cell_type": "markdown",
      "metadata": {
        "id": "0ljSRdMiMJvq"
      },
      "source": [
        "* Ajusta una regresión logística sin penalizar"
      ]
    },
    {
      "cell_type": "code",
      "metadata": {
        "id": "Q3p71rChMc1k"
      },
      "source": [
        "lr = LogisticRegression(max_iter=2000).fit(X_train, y_train)\n",
        "y_pred = lr.predict(X_test)"
      ],
      "execution_count": 50,
      "outputs": []
    },
    {
      "cell_type": "markdown",
      "metadata": {
        "id": "_42uIiqJMdMu"
      },
      "source": [
        "* obten la matriz de confusión y análizala"
      ]
    },
    {
      "cell_type": "code",
      "metadata": {
        "id": "y7OzbCzinnUh",
        "colab": {
          "base_uri": "https://localhost:8080/"
        },
        "outputId": "6fa5254d-b10c-4935-9c88-82397657b882"
      },
      "source": [
        "confusion_matrix(y_test, y_pred)"
      ],
      "execution_count": 51,
      "outputs": [
        {
          "output_type": "execute_result",
          "data": {
            "text/plain": [
              "array([[4763,    0],\n",
              "       [ 237,    0]])"
            ]
          },
          "metadata": {},
          "execution_count": 51
        }
      ]
    },
    {
      "cell_type": "markdown",
      "metadata": {
        "id": "l_i17OrQLaSo"
      },
      "source": [
        "* Realiza un Under sampling (corre el siguiente código)"
      ]
    },
    {
      "cell_type": "code",
      "metadata": {
        "id": "tjysotzBsbza"
      },
      "source": [
        "from imblearn.under_sampling import RandomUnderSampler\n",
        "\n",
        "undersample = RandomUnderSampler(sampling_strategy=.5,\n",
        "                                 random_state=42)\n",
        "\n",
        "X_res, y_res = undersample.fit_resample(X_train, y_train)"
      ],
      "execution_count": 52,
      "outputs": []
    },
    {
      "cell_type": "markdown",
      "metadata": {
        "id": "KzS1hZ0iMnYj"
      },
      "source": [
        "* obten la cantidad de registros que tiene `X_res`"
      ]
    },
    {
      "cell_type": "code",
      "metadata": {
        "id": "iBhc4spxMmmX",
        "colab": {
          "base_uri": "https://localhost:8080/"
        },
        "outputId": "90b18dfd-1d9d-40c1-e957-ca6f5e6505ca"
      },
      "source": [
        "X_res.shape"
      ],
      "execution_count": 53,
      "outputs": [
        {
          "output_type": "execute_result",
          "data": {
            "text/plain": [
              "(2850, 3)"
            ]
          },
          "metadata": {},
          "execution_count": 53
        }
      ]
    },
    {
      "cell_type": "markdown",
      "metadata": {
        "id": "hxZQWm_-MyGT"
      },
      "source": [
        "* A partir de `y_res` obten la frecuencia de cada una de sus clases, que ha pasado?"
      ]
    },
    {
      "cell_type": "code",
      "metadata": {
        "id": "6lM7JsYPslJl",
        "colab": {
          "base_uri": "https://localhost:8080/"
        },
        "outputId": "2c82f89d-d38e-4c73-8fa8-255456d4ba01"
      },
      "source": [
        "pd.Series(y_res).value_counts()"
      ],
      "execution_count": 54,
      "outputs": [
        {
          "output_type": "execute_result",
          "data": {
            "text/plain": [
              "0    1900\n",
              "1     950\n",
              "dtype: int64"
            ]
          },
          "metadata": {},
          "execution_count": 54
        }
      ]
    },
    {
      "cell_type": "markdown",
      "source": [
        "Se ha incrementado el ratio de observaciones con una clase de 1 con respecto de las observaciones con una clase de 0."
      ],
      "metadata": {
        "id": "K2C0GV9e6pnD"
      }
    },
    {
      "cell_type": "markdown",
      "metadata": {
        "id": "kdjgWe_kNCLv"
      },
      "source": [
        "* Entrena un modelo con `X_res` y `y_res`"
      ]
    },
    {
      "cell_type": "code",
      "metadata": {
        "id": "w2hjn0CpswP4"
      },
      "source": [
        "lr_res = LogisticRegression(max_iter=2000).fit(X_res, y_res)\n"
      ],
      "execution_count": 56,
      "outputs": []
    },
    {
      "cell_type": "markdown",
      "metadata": {
        "id": "15H5z4DeNMek"
      },
      "source": [
        "* Crea pronosticos usando `X_test`"
      ]
    },
    {
      "cell_type": "code",
      "metadata": {
        "id": "5UYkofS-NMkE"
      },
      "source": [
        "y_pred_res = lr_res.predict(X_test)"
      ],
      "execution_count": 57,
      "outputs": []
    },
    {
      "cell_type": "markdown",
      "metadata": {
        "id": "ewckYoKVNVzu"
      },
      "source": [
        "* Obten la matriz de confusión, análizala y calcula:\n",
        " * Accuracy\n",
        " * Precision\n",
        " * Recall\n",
        " * F1-score\n",
        "\n"
      ]
    },
    {
      "cell_type": "code",
      "metadata": {
        "id": "Q3WqP-WiHQzq",
        "colab": {
          "base_uri": "https://localhost:8080/"
        },
        "outputId": "ce29248f-cdda-4167-cc3e-90d0ba6bf264"
      },
      "source": [
        "# Confusion matrix\n",
        "print(confusion_matrix(y_test, y_pred_res))"
      ],
      "execution_count": 62,
      "outputs": [
        {
          "output_type": "stream",
          "name": "stdout",
          "text": [
            "[[4551  212]\n",
            " [ 216   21]]\n"
          ]
        }
      ]
    },
    {
      "cell_type": "code",
      "source": [
        "# Performance metrics\n",
        "print(classification_report(y_test, y_pred_res, zero_division = False))"
      ],
      "metadata": {
        "colab": {
          "base_uri": "https://localhost:8080/"
        },
        "id": "bRAXqIrk7Rgb",
        "outputId": "44e33105-9672-4e3a-fae9-335dc187b7ac"
      },
      "execution_count": 61,
      "outputs": [
        {
          "output_type": "stream",
          "name": "stdout",
          "text": [
            "              precision    recall  f1-score   support\n",
            "\n",
            "           0       0.95      0.96      0.96      4763\n",
            "           1       0.09      0.09      0.09       237\n",
            "\n",
            "    accuracy                           0.91      5000\n",
            "   macro avg       0.52      0.52      0.52      5000\n",
            "weighted avg       0.91      0.91      0.91      5000\n",
            "\n"
          ]
        }
      ]
    },
    {
      "cell_type": "markdown",
      "metadata": {
        "id": "ZT4thBxaNsI7"
      },
      "source": [
        "Compara y anota tus conclusiones entre los dos modelos ajustados"
      ]
    },
    {
      "cell_type": "code",
      "metadata": {
        "id": "WMlCWrwVODFW"
      },
      "source": [
        "# El proceso de under-sampling permitió aumentar la capacidad del segundo modelo entrenado para correctamente clasificar observaciones positivas. \n",
        "# Por el contrario, el primer modelo entrenado que empleó la totalidad del training set fue incapaz de correctamente clasificar observaciones positivas. "
      ],
      "execution_count": null,
      "outputs": []
    },
    {
      "cell_type": "code",
      "source": [
        "# Challenge completed"
      ],
      "metadata": {
        "id": "2gvb0CV0W-NB"
      },
      "execution_count": null,
      "outputs": []
    }
  ]
}
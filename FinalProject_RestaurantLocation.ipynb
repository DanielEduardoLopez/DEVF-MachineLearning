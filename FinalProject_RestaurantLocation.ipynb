{
  "nbformat": 4,
  "nbformat_minor": 0,
  "metadata": {
    "colab": {
      "provenance": []
    },
    "kernelspec": {
      "name": "python3",
      "display_name": "Python 3"
    },
    "language_info": {
      "name": "python"
    }
  },
  "cells": [
    {
      "cell_type": "markdown",
      "metadata": {
        "id": "aR8EWLOUFuVH"
      },
      "source": [
        "# Final Project: **Location of a Vegetarian Restaurant in Mexico**\n",
        "\n",
        "#### By: **Daniel Eduardo López**\n",
        "_____\n",
        "\n"
      ]
    },
    {
      "cell_type": "markdown",
      "source": [
        "\n",
        "### **1. Goal**\n",
        "To define the appropriate location of a Vegetarian Restaurant in Mexico City through the use of Machine Learning techniques.\n",
        "\n",
        "### **2. Instructions**\n",
        "1. Using demographic variables, perform a supervised model where the target variable is the number of restaurants.\n",
        "2. Create the independent variables using the State and the ZIP code.\n",
        "3. Use at least 50 variables and with some of them develop an unsupervised model uwing K-Means to profile each of the ZIP Codes.\n",
        "4. Train a model using a clustering technique and the rest of the variables to predict the target Variable (use Grid Search and Cross Validation).\n",
        "5. Determine 10 locations where the restaurant might be placed.\n",
        "6. Determine the 5 most influential variables.\n",
        "7. Present your results on Google Slides.\n",
        "\n",
        "### **3. Code**"
      ],
      "metadata": {
        "id": "-6qFqwdAssfa"
      }
    },
    {
      "cell_type": "code",
      "source": [
        "# Libraries importation\n",
        "import numpy as np \n",
        "import pandas as pd \n",
        "import matplotlib.pyplot as plt \n",
        "import seaborn as sns\n",
        "from sklearn.model_selection import train_test_split\n",
        "from sklearn.preprocessing import MinMaxScaler\n",
        "from sklearn.cluster import KMeans\n",
        "import time\n",
        "%matplotlib inline"
      ],
      "metadata": {
        "id": "C6RapNbys_Ah"
      },
      "execution_count": 5,
      "outputs": []
    },
    {
      "cell_type": "code",
      "source": [
        "# Setting of the Seaborn theme to Darkgrid\n",
        "sns.set_theme(context = 'notebook', style = 'darkgrid')"
      ],
      "metadata": {
        "id": "z6Xiof-38xhP"
      },
      "execution_count": 2,
      "outputs": []
    },
    {
      "cell_type": "code",
      "source": [
        "# Setting of the INEGI's API \n",
        "token = \"06bf4cf2-9d80-47a5-9317-1c5d2a59b0e7\"\n",
        "\n",
        "def radio_busq_inegi(condicion=\"restaurantes\", radio=500, loc=[19.4339339,-99.135982]):\n",
        "    lat, lng = loc\n",
        "    \n",
        "    places_url = f\"https://www.inegi.org.mx/app/api/denue/v1/consulta/buscar/{condicion}/{lat},{lng}/{radio}/{token}\"\n",
        "    \n",
        "    time.sleep(0.48)\n",
        "    r = requests.get(places_url)\n",
        "    time.sleep(0.02)\n",
        "    # print(places_url, r.text)\n",
        "    if r.status_code not in range(200, 300):\n",
        "        return {}\n",
        "    return r.json()"
      ],
      "metadata": {
        "id": "R0fziAo2tadn"
      },
      "execution_count": null,
      "outputs": []
    },
    {
      "cell_type": "code",
      "source": [
        "\n",
        "\n",
        "x_train, x_test, y_train, y_test = train_test_split(X, y, shuffle=True, test_size = 0.20)"
      ],
      "metadata": {
        "id": "r8fDv39D2khq"
      },
      "execution_count": null,
      "outputs": []
    },
    {
      "cell_type": "code",
      "source": [
        "\n",
        "scaler = MinMaxScaler()\n",
        "scaler.fit(x_train)"
      ],
      "metadata": {
        "colab": {
          "base_uri": "https://localhost:8080/"
        },
        "id": "8a6WplTc2vtL",
        "outputId": "3d1a99c7-8618-4b1c-fe96-284956f35854"
      },
      "execution_count": null,
      "outputs": [
        {
          "output_type": "execute_result",
          "data": {
            "text/plain": [
              "MinMaxScaler()"
            ]
          },
          "metadata": {},
          "execution_count": 29
        }
      ]
    },
    {
      "cell_type": "code",
      "source": [
        "x_train = scaler.transform(x_train)\n",
        "x_test = scaler.transform(x_test)"
      ],
      "metadata": {
        "id": "Go4iIA7P20CK"
      },
      "execution_count": null,
      "outputs": []
    },
    {
      "cell_type": "code",
      "source": [],
      "metadata": {
        "id": "QVphNWSJ8qx1"
      },
      "execution_count": null,
      "outputs": []
    }
  ]
}